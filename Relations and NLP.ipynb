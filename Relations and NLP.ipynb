{
 "cells": [
  {
   "cell_type": "code",
   "execution_count": 1,
   "id": "e7d4225d",
   "metadata": {},
   "outputs": [],
   "source": [
    "#importing all the necessary libraries\n",
    "import numpy as np  \n",
    "import pandas as pd\n",
    "import matplotlib.pyplot as plt\n",
    "import seaborn as sns\n",
    "import sklearn"
   ]
  },
  {
   "cell_type": "code",
   "execution_count": 3,
   "id": "9a42fb92",
   "metadata": {},
   "outputs": [],
   "source": [
    "#n_d -- noisy_data -- instance for reading file  \n",
    "n_d = pd.read_csv('C:/Users/Raj Patel/Documents/college/ml programming/noisy_data.csv')"
   ]
  },
  {
   "cell_type": "code",
   "execution_count": 4,
   "id": "d2680394",
   "metadata": {},
   "outputs": [
    {
     "data": {
      "text/html": [
       "<div>\n",
       "<style scoped>\n",
       "    .dataframe tbody tr th:only-of-type {\n",
       "        vertical-align: middle;\n",
       "    }\n",
       "\n",
       "    .dataframe tbody tr th {\n",
       "        vertical-align: top;\n",
       "    }\n",
       "\n",
       "    .dataframe thead th {\n",
       "        text-align: right;\n",
       "    }\n",
       "</style>\n",
       "<table border=\"1\" class=\"dataframe\">\n",
       "  <thead>\n",
       "    <tr style=\"text-align: right;\">\n",
       "      <th></th>\n",
       "      <th>Region</th>\n",
       "      <th>Age</th>\n",
       "      <th>Income</th>\n",
       "      <th>Online Shopper</th>\n",
       "    </tr>\n",
       "  </thead>\n",
       "  <tbody>\n",
       "    <tr>\n",
       "      <th>0</th>\n",
       "      <td>India</td>\n",
       "      <td>49.0</td>\n",
       "      <td>86400.0</td>\n",
       "      <td>No</td>\n",
       "    </tr>\n",
       "    <tr>\n",
       "      <th>1</th>\n",
       "      <td>Brazil</td>\n",
       "      <td>32.0</td>\n",
       "      <td>57600.0</td>\n",
       "      <td>Yes</td>\n",
       "    </tr>\n",
       "    <tr>\n",
       "      <th>2</th>\n",
       "      <td>USA</td>\n",
       "      <td>35.0</td>\n",
       "      <td>64800.0</td>\n",
       "      <td>No</td>\n",
       "    </tr>\n",
       "    <tr>\n",
       "      <th>3</th>\n",
       "      <td>Brazil</td>\n",
       "      <td>43.0</td>\n",
       "      <td>73200.0</td>\n",
       "      <td>No</td>\n",
       "    </tr>\n",
       "    <tr>\n",
       "      <th>4</th>\n",
       "      <td>USA</td>\n",
       "      <td>45.0</td>\n",
       "      <td>NaN</td>\n",
       "      <td>Yes</td>\n",
       "    </tr>\n",
       "    <tr>\n",
       "      <th>5</th>\n",
       "      <td>India</td>\n",
       "      <td>40.0</td>\n",
       "      <td>69600.0</td>\n",
       "      <td>Yes</td>\n",
       "    </tr>\n",
       "    <tr>\n",
       "      <th>6</th>\n",
       "      <td>Brazil</td>\n",
       "      <td>NaN</td>\n",
       "      <td>62400.0</td>\n",
       "      <td>No</td>\n",
       "    </tr>\n",
       "    <tr>\n",
       "      <th>7</th>\n",
       "      <td>India</td>\n",
       "      <td>53.0</td>\n",
       "      <td>94800.0</td>\n",
       "      <td>Yes</td>\n",
       "    </tr>\n",
       "    <tr>\n",
       "      <th>8</th>\n",
       "      <td>USA</td>\n",
       "      <td>55.0</td>\n",
       "      <td>99600.0</td>\n",
       "      <td>No</td>\n",
       "    </tr>\n",
       "    <tr>\n",
       "      <th>9</th>\n",
       "      <td>India</td>\n",
       "      <td>42.0</td>\n",
       "      <td>80400.0</td>\n",
       "      <td>Yes</td>\n",
       "    </tr>\n",
       "  </tbody>\n",
       "</table>\n",
       "</div>"
      ],
      "text/plain": [
       "   Region   Age   Income Online Shopper\n",
       "0   India  49.0  86400.0             No\n",
       "1  Brazil  32.0  57600.0            Yes\n",
       "2     USA  35.0  64800.0             No\n",
       "3  Brazil  43.0  73200.0             No\n",
       "4     USA  45.0      NaN            Yes\n",
       "5   India  40.0  69600.0            Yes\n",
       "6  Brazil   NaN  62400.0             No\n",
       "7   India  53.0  94800.0            Yes\n",
       "8     USA  55.0  99600.0             No\n",
       "9   India  42.0  80400.0            Yes"
      ]
     },
     "execution_count": 4,
     "metadata": {},
     "output_type": "execute_result"
    }
   ],
   "source": [
    "n_d # showing all the data of csv file"
   ]
  },
  {
   "cell_type": "code",
   "execution_count": 8,
   "id": "b7f87afe",
   "metadata": {},
   "outputs": [
    {
     "data": {
      "text/plain": [
       "Region            0\n",
       "Age               1\n",
       "Income            1\n",
       "Online Shopper    0\n",
       "dtype: int64"
      ]
     },
     "execution_count": 8,
     "metadata": {},
     "output_type": "execute_result"
    }
   ],
   "source": [
    "# As we can see by just reading the dataset, but here i have used the isnull() method to check for the missing dataset.\n",
    "# isnull method will return the bolean value for the dataset, if missing value then true - if not then false.\n",
    "# by adding the .sum it will return in the integer form\n",
    "n_d.isnull().sum()"
   ]
  },
  {
   "cell_type": "code",
   "execution_count": 12,
   "id": "d3f1a21c",
   "metadata": {},
   "outputs": [
    {
     "name": "stdout",
     "output_type": "stream",
     "text": [
      "13876.919286674867\n"
     ]
    }
   ],
   "source": [
    "# standard deviation of Income column\n",
    "import numpy\n",
    "std = numpy.std(n_d.Income)\n",
    "print(std)"
   ]
  },
  {
   "cell_type": "markdown",
   "id": "cbf08a55",
   "metadata": {},
   "source": [
    "\n",
    "### Imputation \n"
   ]
  },
  {
   "cell_type": "code",
   "execution_count": 14,
   "id": "bb996d99",
   "metadata": {},
   "outputs": [],
   "source": [
    "from sklearn.impute import SimpleImputer "
   ]
  },
  {
   "cell_type": "code",
   "execution_count": 19,
   "id": "da0385b8",
   "metadata": {},
   "outputs": [],
   "source": [
    "imputer = SimpleImputer(missing_values=np.nan, strategy=\"mean\") #calling the imputer function \n",
    "                                                                # strategy mean because we want to replace null value by mean \n",
    "\n",
    "imputer.fit(n_d.iloc[:, 1:3]) # picking the Age and Income column\n",
    "\n",
    "n_d.iloc[:, 1:3] = imputer.transform(n_d.iloc[:, 1:3]) "
   ]
  },
  {
   "cell_type": "code",
   "execution_count": 20,
   "id": "ddf2bbd7",
   "metadata": {},
   "outputs": [
    {
     "data": {
      "text/html": [
       "<div>\n",
       "<style scoped>\n",
       "    .dataframe tbody tr th:only-of-type {\n",
       "        vertical-align: middle;\n",
       "    }\n",
       "\n",
       "    .dataframe tbody tr th {\n",
       "        vertical-align: top;\n",
       "    }\n",
       "\n",
       "    .dataframe thead th {\n",
       "        text-align: right;\n",
       "    }\n",
       "</style>\n",
       "<table border=\"1\" class=\"dataframe\">\n",
       "  <thead>\n",
       "    <tr style=\"text-align: right;\">\n",
       "      <th></th>\n",
       "      <th>Region</th>\n",
       "      <th>Age</th>\n",
       "      <th>Income</th>\n",
       "      <th>Online Shopper</th>\n",
       "    </tr>\n",
       "  </thead>\n",
       "  <tbody>\n",
       "    <tr>\n",
       "      <th>0</th>\n",
       "      <td>India</td>\n",
       "      <td>49.000000</td>\n",
       "      <td>86400.000000</td>\n",
       "      <td>No</td>\n",
       "    </tr>\n",
       "    <tr>\n",
       "      <th>1</th>\n",
       "      <td>Brazil</td>\n",
       "      <td>32.000000</td>\n",
       "      <td>57600.000000</td>\n",
       "      <td>Yes</td>\n",
       "    </tr>\n",
       "    <tr>\n",
       "      <th>2</th>\n",
       "      <td>USA</td>\n",
       "      <td>35.000000</td>\n",
       "      <td>64800.000000</td>\n",
       "      <td>No</td>\n",
       "    </tr>\n",
       "    <tr>\n",
       "      <th>3</th>\n",
       "      <td>Brazil</td>\n",
       "      <td>43.000000</td>\n",
       "      <td>73200.000000</td>\n",
       "      <td>No</td>\n",
       "    </tr>\n",
       "    <tr>\n",
       "      <th>4</th>\n",
       "      <td>USA</td>\n",
       "      <td>45.000000</td>\n",
       "      <td>76533.333333</td>\n",
       "      <td>Yes</td>\n",
       "    </tr>\n",
       "    <tr>\n",
       "      <th>5</th>\n",
       "      <td>India</td>\n",
       "      <td>40.000000</td>\n",
       "      <td>69600.000000</td>\n",
       "      <td>Yes</td>\n",
       "    </tr>\n",
       "    <tr>\n",
       "      <th>6</th>\n",
       "      <td>Brazil</td>\n",
       "      <td>43.777778</td>\n",
       "      <td>62400.000000</td>\n",
       "      <td>No</td>\n",
       "    </tr>\n",
       "    <tr>\n",
       "      <th>7</th>\n",
       "      <td>India</td>\n",
       "      <td>53.000000</td>\n",
       "      <td>94800.000000</td>\n",
       "      <td>Yes</td>\n",
       "    </tr>\n",
       "    <tr>\n",
       "      <th>8</th>\n",
       "      <td>USA</td>\n",
       "      <td>55.000000</td>\n",
       "      <td>99600.000000</td>\n",
       "      <td>No</td>\n",
       "    </tr>\n",
       "    <tr>\n",
       "      <th>9</th>\n",
       "      <td>India</td>\n",
       "      <td>42.000000</td>\n",
       "      <td>80400.000000</td>\n",
       "      <td>Yes</td>\n",
       "    </tr>\n",
       "  </tbody>\n",
       "</table>\n",
       "</div>"
      ],
      "text/plain": [
       "   Region        Age        Income Online Shopper\n",
       "0   India  49.000000  86400.000000             No\n",
       "1  Brazil  32.000000  57600.000000            Yes\n",
       "2     USA  35.000000  64800.000000             No\n",
       "3  Brazil  43.000000  73200.000000             No\n",
       "4     USA  45.000000  76533.333333            Yes\n",
       "5   India  40.000000  69600.000000            Yes\n",
       "6  Brazil  43.777778  62400.000000             No\n",
       "7   India  53.000000  94800.000000            Yes\n",
       "8     USA  55.000000  99600.000000             No\n",
       "9   India  42.000000  80400.000000            Yes"
      ]
     },
     "execution_count": 20,
     "metadata": {},
     "output_type": "execute_result"
    }
   ],
   "source": [
    "n_d"
   ]
  },
  {
   "cell_type": "code",
   "execution_count": 21,
   "id": "e6a76469",
   "metadata": {},
   "outputs": [],
   "source": [
    "# as we can see the output the missing value has benn delt with by use of umputation method.\n",
    "# both missing value is replaced by their respective mean."
   ]
  },
  {
   "cell_type": "code",
   "execution_count": 22,
   "id": "d750fcb6",
   "metadata": {},
   "outputs": [
    {
     "data": {
      "text/html": [
       "<div>\n",
       "<style scoped>\n",
       "    .dataframe tbody tr th:only-of-type {\n",
       "        vertical-align: middle;\n",
       "    }\n",
       "\n",
       "    .dataframe tbody tr th {\n",
       "        vertical-align: top;\n",
       "    }\n",
       "\n",
       "    .dataframe thead th {\n",
       "        text-align: right;\n",
       "    }\n",
       "</style>\n",
       "<table border=\"1\" class=\"dataframe\">\n",
       "  <thead>\n",
       "    <tr style=\"text-align: right;\">\n",
       "      <th></th>\n",
       "      <th>Age</th>\n",
       "      <th>Income</th>\n",
       "    </tr>\n",
       "  </thead>\n",
       "  <tbody>\n",
       "    <tr>\n",
       "      <th>count</th>\n",
       "      <td>10.000000</td>\n",
       "      <td>10.000000</td>\n",
       "    </tr>\n",
       "    <tr>\n",
       "      <th>mean</th>\n",
       "      <td>43.777778</td>\n",
       "      <td>76533.333333</td>\n",
       "    </tr>\n",
       "    <tr>\n",
       "      <th>std</th>\n",
       "      <td>7.253777</td>\n",
       "      <td>13876.919287</td>\n",
       "    </tr>\n",
       "    <tr>\n",
       "      <th>min</th>\n",
       "      <td>32.000000</td>\n",
       "      <td>57600.000000</td>\n",
       "    </tr>\n",
       "    <tr>\n",
       "      <th>25%</th>\n",
       "      <td>40.500000</td>\n",
       "      <td>66000.000000</td>\n",
       "    </tr>\n",
       "    <tr>\n",
       "      <th>50%</th>\n",
       "      <td>43.388889</td>\n",
       "      <td>74866.666667</td>\n",
       "    </tr>\n",
       "    <tr>\n",
       "      <th>75%</th>\n",
       "      <td>48.000000</td>\n",
       "      <td>84900.000000</td>\n",
       "    </tr>\n",
       "    <tr>\n",
       "      <th>max</th>\n",
       "      <td>55.000000</td>\n",
       "      <td>99600.000000</td>\n",
       "    </tr>\n",
       "  </tbody>\n",
       "</table>\n",
       "</div>"
      ],
      "text/plain": [
       "             Age        Income\n",
       "count  10.000000     10.000000\n",
       "mean   43.777778  76533.333333\n",
       "std     7.253777  13876.919287\n",
       "min    32.000000  57600.000000\n",
       "25%    40.500000  66000.000000\n",
       "50%    43.388889  74866.666667\n",
       "75%    48.000000  84900.000000\n",
       "max    55.000000  99600.000000"
      ]
     },
     "execution_count": 22,
     "metadata": {},
     "output_type": "execute_result"
    }
   ],
   "source": [
    "n_d.describe() # describe function gives the statistical insight of data.\n",
    "               # as we can see it gives the mean, standard deviation as well as min and max of numeric data."
   ]
  },
  {
   "cell_type": "markdown",
   "id": "fc269c4c",
   "metadata": {},
   "source": [
    "### Normality Distribution"
   ]
  },
  {
   "cell_type": "code",
   "execution_count": 23,
   "id": "37a072b7",
   "metadata": {},
   "outputs": [],
   "source": [
    " # if we want to know about that how well our data is distributed then we can use the Normality Distribution.\n",
    " # normality distribution is also known as \"gaussian distribution\".\n",
    " # for checking the normality distribution there are two ways \n",
    " #   1) Graphical distribution(not the most accurate)\n",
    " #   2) statistical approach "
   ]
  },
  {
   "cell_type": "markdown",
   "id": "cb62d82f",
   "metadata": {},
   "source": [
    " #### Hypothesis \n",
    " There are two types of hypothesis \n",
    " 1: alternative hypothesis \n",
    " 2: null hypothesis \n",
    " \n",
    " for given example \n",
    " \n",
    " Null hypothesis : Our data is normally distributed\n",
    " "
   ]
  },
  {
   "cell_type": "code",
   "execution_count": 24,
   "id": "d4349d8b",
   "metadata": {},
   "outputs": [
    {
     "data": {
      "text/plain": [
       "<AxesSubplot:>"
      ]
     },
     "execution_count": 24,
     "metadata": {},
     "output_type": "execute_result"
    },
    {
     "data": {
      "image/png": "[encoded data removed]",
      "text/plain": [
       "<Figure size 432x288 with 1 Axes>"
      ]
     },
     "metadata": {
      "needs_background": "light"
     },
     "output_type": "display_data"
    }
   ],
   "source": [
    " n_d.Age.hist()"
   ]
  },
  {
   "cell_type": "code",
   "execution_count": 25,
   "id": "f4169685",
   "metadata": {},
   "outputs": [
    {
     "data": {
      "text/plain": [
       "<AxesSubplot:>"
      ]
     },
     "execution_count": 25,
     "metadata": {},
     "output_type": "execute_result"
    },
    {
     "data": {
      "image/png": "[encoded data removed]",
      "text/plain": [
       "<Figure size 432x288 with 1 Axes>"
      ]
     },
     "metadata": {
      "needs_background": "light"
     },
     "output_type": "display_data"
    }
   ],
   "source": [
    "n_d.Income.hist()"
   ]
  },
  {
   "cell_type": "markdown",
   "id": "c2fb5fd8",
   "metadata": {},
   "source": [
    " #### Here it is visible that histogram of data would not fit the bell curve, so given data is not normally distributed. "
   ]
  },
  {
   "cell_type": "markdown",
   "id": "9693eaca",
   "metadata": {},
   "source": [
    "\n",
    "\n"
   ]
  },
  {
   "cell_type": "code",
   "execution_count": 26,
   "id": "9fb12baf",
   "metadata": {},
   "outputs": [
    {
     "data": {
      "image/png": "[encoded data removed]",
      "text/plain": [
       "<Figure size 432x288 with 1 Axes>"
      ]
     },
     "metadata": {
      "needs_background": "light"
     },
     "output_type": "display_data"
    }
   ],
   "source": [
    " # here i have used q-q or quantile-quantile plot for checking the normality distribution\n",
    "# q-q method gives the better understanding of our data compare to simple histogram or scatter plot. \n",
    "# it plots the 'theortical quantiles' against the 'actual quantile'.\n",
    "\n",
    "from statsmodels.graphics.gofplots import qqplot #for importing q-qplot\n",
    "\n",
    "qqplot(n_d['Age'], line='s')  # here i have applied qqplot on numeric column 'Age'\n",
    "\n",
    "plt.show() "
   ]
  },
  {
   "cell_type": "code",
   "execution_count": 27,
   "id": "54976c4b",
   "metadata": {},
   "outputs": [
    {
     "data": {
      "image/png": "[encoded data removed]",
      "text/plain": [
       "<Figure size 432x288 with 1 Axes>"
      ]
     },
     "metadata": {
      "needs_background": "light"
     },
     "output_type": "display_data"
    }
   ],
   "source": [
    "qqplot(n_d['Income'], line='s') # applying qqplot on 'Income'\n",
    "plt.show() "
   ]
  },
  {
   "cell_type": "markdown",
   "id": "952175d6",
   "metadata": {},
   "source": [
    " \n",
    " ####  For quantile vs quantile plot we need to understand that if our data is fitted on the straight line then our data is normally                         distributed  \n",
    " ####   but here our all the data is not  lied on the straight line so i would say that data is not normally distributed.  \n",
    " "
   ]
  },
  {
   "cell_type": "markdown",
   "id": "8e4c572f",
   "metadata": {},
   "source": [
    "\n",
    "\n"
   ]
  },
  {
   "cell_type": "markdown",
   "id": "5322f065",
   "metadata": {},
   "source": [
    "### Statistical approach \n",
    "\n",
    "####   in statistic approach if we want know that if our null hypothesis is valid or not then we can know by \n",
    "####   the help of \"p-value\"-- probability value.   \n",
    "####   if our p value is <= 0.05 then we should imply that it rejects our null hypothesis \n",
    "####   and if p > 0.05 that means our data is normaly distributed."
   ]
  },
  {
   "cell_type": "markdown",
   "id": "09dd01ae",
   "metadata": {},
   "source": [
    "\n"
   ]
  },
  {
   "cell_type": "code",
   "execution_count": 28,
   "id": "7476251e",
   "metadata": {},
   "outputs": [
    {
     "data": {
      "text/html": [
       "<div>\n",
       "<style scoped>\n",
       "    .dataframe tbody tr th:only-of-type {\n",
       "        vertical-align: middle;\n",
       "    }\n",
       "\n",
       "    .dataframe tbody tr th {\n",
       "        vertical-align: top;\n",
       "    }\n",
       "\n",
       "    .dataframe thead th {\n",
       "        text-align: right;\n",
       "    }\n",
       "</style>\n",
       "<table border=\"1\" class=\"dataframe\">\n",
       "  <thead>\n",
       "    <tr style=\"text-align: right;\">\n",
       "      <th></th>\n",
       "      <th>Age</th>\n",
       "      <th>Income</th>\n",
       "    </tr>\n",
       "  </thead>\n",
       "  <tbody>\n",
       "    <tr>\n",
       "      <th>0</th>\n",
       "      <td>49.000000</td>\n",
       "      <td>86400.000000</td>\n",
       "    </tr>\n",
       "    <tr>\n",
       "      <th>1</th>\n",
       "      <td>32.000000</td>\n",
       "      <td>57600.000000</td>\n",
       "    </tr>\n",
       "    <tr>\n",
       "      <th>2</th>\n",
       "      <td>35.000000</td>\n",
       "      <td>64800.000000</td>\n",
       "    </tr>\n",
       "    <tr>\n",
       "      <th>3</th>\n",
       "      <td>43.000000</td>\n",
       "      <td>73200.000000</td>\n",
       "    </tr>\n",
       "    <tr>\n",
       "      <th>4</th>\n",
       "      <td>45.000000</td>\n",
       "      <td>76533.333333</td>\n",
       "    </tr>\n",
       "    <tr>\n",
       "      <th>5</th>\n",
       "      <td>40.000000</td>\n",
       "      <td>69600.000000</td>\n",
       "    </tr>\n",
       "    <tr>\n",
       "      <th>6</th>\n",
       "      <td>43.777778</td>\n",
       "      <td>62400.000000</td>\n",
       "    </tr>\n",
       "    <tr>\n",
       "      <th>7</th>\n",
       "      <td>53.000000</td>\n",
       "      <td>94800.000000</td>\n",
       "    </tr>\n",
       "    <tr>\n",
       "      <th>8</th>\n",
       "      <td>55.000000</td>\n",
       "      <td>99600.000000</td>\n",
       "    </tr>\n",
       "    <tr>\n",
       "      <th>9</th>\n",
       "      <td>42.000000</td>\n",
       "      <td>80400.000000</td>\n",
       "    </tr>\n",
       "  </tbody>\n",
       "</table>\n",
       "</div>"
      ],
      "text/plain": [
       "         Age        Income\n",
       "0  49.000000  86400.000000\n",
       "1  32.000000  57600.000000\n",
       "2  35.000000  64800.000000\n",
       "3  43.000000  73200.000000\n",
       "4  45.000000  76533.333333\n",
       "5  40.000000  69600.000000\n",
       "6  43.777778  62400.000000\n",
       "7  53.000000  94800.000000\n",
       "8  55.000000  99600.000000\n",
       "9  42.000000  80400.000000"
      ]
     },
     "execution_count": 28,
     "metadata": {},
     "output_type": "execute_result"
    }
   ],
   "source": [
    "n_d_numeric = n_d.iloc[:,1:3] # here i have fetched the numeric columns from data because we do not want categorical data\n",
    "n_d_numeric               "
   ]
  },
  {
   "cell_type": "code",
   "execution_count": null,
   "id": "366966b6",
   "metadata": {},
   "outputs": [],
   "source": [
    "# 1: shapiro - wilk test -- it is one of the method that has been spacially desined to check the normality of the numeric data."
   ]
  },
  {
   "cell_type": "code",
   "execution_count": 30,
   "id": "3e7be755",
   "metadata": {},
   "outputs": [
    {
     "name": "stdout",
     "output_type": "stream",
     "text": [
      "Statistics=0.768, p=0.000\n",
      "Data is not normally distributed , does not supports null hypothesis\n"
     ]
    }
   ],
   "source": [
    "from scipy.stats import shapiro #importing the shapiro method\n",
    "\n",
    "stat , p = shapiro(n_d_numeric) #passing the columns\n",
    "print('Statistics=%.3f, p=%.3f' % (stat, p))\n",
    " \n",
    "if p > 0.05 : # checking for null hypothesis\n",
    "    print('Data is normally distributed , Supports the null hypothesis ')\n",
    "else:\n",
    "    print('Data is not normally distributed , does not supports null hypothesis')"
   ]
  },
  {
   "cell_type": "markdown",
   "id": "4be55515",
   "metadata": {},
   "source": [
    "  \n",
    " "
   ]
  },
  {
   "cell_type": "code",
   "execution_count": 32,
   "id": "95baac5a",
   "metadata": {},
   "outputs": [
    {
     "name": "stdout",
     "output_type": "stream",
     "text": [
      "Statistic: 0.179\n",
      "15.000: 0.501, data looks normal ( does not reject the null hypothesis)\n",
      "10.000: 0.570, data looks normal ( does not reject the null hypothesis)\n",
      "5.000: 0.684, data looks normal ( does not reject the null hypothesis)\n",
      "2.500: 0.798, data looks normal ( does not reject the null hypothesis)\n",
      "1.000: 0.950, data looks normal ( does not reject the null hypothesis)\n"
     ]
    }
   ],
   "source": [
    "# 2 : Anderson - darling test  -- rather than just simply returning p value anderson- darling test will return critical values.\n",
    "                                 # critical values is pre-defined measurement that will help in analyzing weather to reject null hypothesis or .not \n",
    " \n",
    "from scipy.stats import anderson # importing pre-defined anderson function\n",
    "\n",
    "and_dar = anderson(n_d['Age'])    # initiating anderson function for 'Age'\n",
    "print('Statistic: %.3f' % and_dar.statistic) \n",
    "p = 0 \n",
    "for i in range(len(and_dar.critical_values)): \n",
    "    s_l, c_v = and_dar.significance_level[i], and_dar.critical_values[i]  # s_l -- significant level # c_v -- critical value\n",
    "    if and_dar.statistic < and_dar.critical_values[i]:\n",
    "         print('%.3f: %.3f, data looks normal ( does not reject the null hypothesis)' % (s_l, c_v))\n",
    "    else:\n",
    "        print('%.3f: %.3f, data does not look normal (reject the null hypothesis)' % (s_l, c_v))    "
   ]
  },
  {
   "cell_type": "code",
   "execution_count": 33,
   "id": "293ef6e3",
   "metadata": {},
   "outputs": [
    {
     "name": "stdout",
     "output_type": "stream",
     "text": [
      "Statistic: 0.177\n",
      "15.000: 0.501, data looks normal ( do not reject the null hypothesis)\n",
      "10.000: 0.570, data looks normal ( do not reject the null hypothesis)\n",
      "5.000: 0.684, data looks normal ( do not reject the null hypothesis)\n",
      "2.500: 0.798, data looks normal ( do not reject the null hypothesis)\n",
      "1.000: 0.950, data looks normal ( do not reject the null hypothesis)\n"
     ]
    }
   ],
   "source": [
    "from scipy.stats import anderson \n",
    "\n",
    "and_dar = anderson(n_d['Income'])    # initiating anderson function for 'Income'\n",
    "print('Statistic: %.3f' % and_dar.statistic) \n",
    "p = 0 \n",
    "for i in range(len(and_dar.critical_values)):\n",
    "    s_l, c_v = and_dar.significance_level[i], and_dar.critical_values[i]\n",
    "    if and_dar.statistic < and_dar.critical_values[i]:\n",
    "         print('%.3f: %.3f, data looks normal ( do not reject the null hypothesis)' % (s_l, c_v))\n",
    "    else:\n",
    "        print('%.3f: %.3f, data does not look normal (reject the null hypothesis)' % (s_l, c_v))    "
   ]
  },
  {
   "cell_type": "markdown",
   "id": "c0d4dc7a",
   "metadata": {},
   "source": [
    "\n"
   ]
  },
  {
   "cell_type": "markdown",
   "id": "cabf8c0c",
   "metadata": {},
   "source": [
    "### Label Encoding and Scaling of Categorical Variable"
   ]
  },
  {
   "cell_type": "code",
   "execution_count": 38,
   "id": "aad48637",
   "metadata": {},
   "outputs": [],
   "source": [
    " # here in our dataset we have two categorical columns\n",
    " # for converting hem into numeric type we can use Label Encoder \n",
    "# by below's code execution we can see that Both column has two type of variable that's why we can use the Binary encoder like label encoder."
   ]
  },
  {
   "cell_type": "code",
   "execution_count": 35,
   "id": "bb6ca437",
   "metadata": {},
   "outputs": [
    {
     "data": {
      "text/plain": [
       "(0     India\n",
       " 1    Brazil\n",
       " 2       USA\n",
       " 3    Brazil\n",
       " 4       USA\n",
       " 5     India\n",
       " 6    Brazil\n",
       " 7     India\n",
       " 8       USA\n",
       " 9     India\n",
       " Name: Region, dtype: object,\n",
       " 0     No\n",
       " 1    Yes\n",
       " 2     No\n",
       " 3     No\n",
       " 4    Yes\n",
       " 5    Yes\n",
       " 6     No\n",
       " 7    Yes\n",
       " 8     No\n",
       " 9    Yes\n",
       " Name: Online Shopper, dtype: object)"
      ]
     },
     "execution_count": 35,
     "metadata": {},
     "output_type": "execute_result"
    }
   ],
   "source": [
    " n_d['Region'] ,  n_d['Online Shopper']"
   ]
  },
  {
   "cell_type": "code",
   "execution_count": 36,
   "id": "e652d556",
   "metadata": {},
   "outputs": [],
   "source": [
    "from sklearn.preprocessing import LabelEncoder #importing the label Encoder\n",
    "label_encoder = LabelEncoder() # creating the instance"
   ]
  },
  {
   "cell_type": "code",
   "execution_count": 37,
   "id": "0631b502",
   "metadata": {},
   "outputs": [
    {
     "data": {
      "text/html": [
       "<div>\n",
       "<style scoped>\n",
       "    .dataframe tbody tr th:only-of-type {\n",
       "        vertical-align: middle;\n",
       "    }\n",
       "\n",
       "    .dataframe tbody tr th {\n",
       "        vertical-align: top;\n",
       "    }\n",
       "\n",
       "    .dataframe thead th {\n",
       "        text-align: right;\n",
       "    }\n",
       "</style>\n",
       "<table border=\"1\" class=\"dataframe\">\n",
       "  <thead>\n",
       "    <tr style=\"text-align: right;\">\n",
       "      <th></th>\n",
       "      <th>Region</th>\n",
       "      <th>Age</th>\n",
       "      <th>Income</th>\n",
       "      <th>Online Shopper</th>\n",
       "    </tr>\n",
       "  </thead>\n",
       "  <tbody>\n",
       "    <tr>\n",
       "      <th>0</th>\n",
       "      <td>1</td>\n",
       "      <td>49.000000</td>\n",
       "      <td>86400.000000</td>\n",
       "      <td>No</td>\n",
       "    </tr>\n",
       "    <tr>\n",
       "      <th>1</th>\n",
       "      <td>0</td>\n",
       "      <td>32.000000</td>\n",
       "      <td>57600.000000</td>\n",
       "      <td>Yes</td>\n",
       "    </tr>\n",
       "    <tr>\n",
       "      <th>2</th>\n",
       "      <td>2</td>\n",
       "      <td>35.000000</td>\n",
       "      <td>64800.000000</td>\n",
       "      <td>No</td>\n",
       "    </tr>\n",
       "    <tr>\n",
       "      <th>3</th>\n",
       "      <td>0</td>\n",
       "      <td>43.000000</td>\n",
       "      <td>73200.000000</td>\n",
       "      <td>No</td>\n",
       "    </tr>\n",
       "    <tr>\n",
       "      <th>4</th>\n",
       "      <td>2</td>\n",
       "      <td>45.000000</td>\n",
       "      <td>76533.333333</td>\n",
       "      <td>Yes</td>\n",
       "    </tr>\n",
       "    <tr>\n",
       "      <th>5</th>\n",
       "      <td>1</td>\n",
       "      <td>40.000000</td>\n",
       "      <td>69600.000000</td>\n",
       "      <td>Yes</td>\n",
       "    </tr>\n",
       "    <tr>\n",
       "      <th>6</th>\n",
       "      <td>0</td>\n",
       "      <td>43.777778</td>\n",
       "      <td>62400.000000</td>\n",
       "      <td>No</td>\n",
       "    </tr>\n",
       "    <tr>\n",
       "      <th>7</th>\n",
       "      <td>1</td>\n",
       "      <td>53.000000</td>\n",
       "      <td>94800.000000</td>\n",
       "      <td>Yes</td>\n",
       "    </tr>\n",
       "    <tr>\n",
       "      <th>8</th>\n",
       "      <td>2</td>\n",
       "      <td>55.000000</td>\n",
       "      <td>99600.000000</td>\n",
       "      <td>No</td>\n",
       "    </tr>\n",
       "    <tr>\n",
       "      <th>9</th>\n",
       "      <td>1</td>\n",
       "      <td>42.000000</td>\n",
       "      <td>80400.000000</td>\n",
       "      <td>Yes</td>\n",
       "    </tr>\n",
       "  </tbody>\n",
       "</table>\n",
       "</div>"
      ],
      "text/plain": [
       "   Region        Age        Income Online Shopper\n",
       "0       1  49.000000  86400.000000             No\n",
       "1       0  32.000000  57600.000000            Yes\n",
       "2       2  35.000000  64800.000000             No\n",
       "3       0  43.000000  73200.000000             No\n",
       "4       2  45.000000  76533.333333            Yes\n",
       "5       1  40.000000  69600.000000            Yes\n",
       "6       0  43.777778  62400.000000             No\n",
       "7       1  53.000000  94800.000000            Yes\n",
       "8       2  55.000000  99600.000000             No\n",
       "9       1  42.000000  80400.000000            Yes"
      ]
     },
     "execution_count": 37,
     "metadata": {},
     "output_type": "execute_result"
    }
   ],
   "source": [
    "label_encoder.fit(n_d['Region'])  \n",
    "n_d['Region'] = label_encoder.transform(n_d['Region']) #transforming to numeric type\n",
    "n_d"
   ]
  },
  {
   "cell_type": "code",
   "execution_count": 39,
   "id": "f3c3b4b3",
   "metadata": {},
   "outputs": [
    {
     "data": {
      "text/html": [
       "<div>\n",
       "<style scoped>\n",
       "    .dataframe tbody tr th:only-of-type {\n",
       "        vertical-align: middle;\n",
       "    }\n",
       "\n",
       "    .dataframe tbody tr th {\n",
       "        vertical-align: top;\n",
       "    }\n",
       "\n",
       "    .dataframe thead th {\n",
       "        text-align: right;\n",
       "    }\n",
       "</style>\n",
       "<table border=\"1\" class=\"dataframe\">\n",
       "  <thead>\n",
       "    <tr style=\"text-align: right;\">\n",
       "      <th></th>\n",
       "      <th>Region</th>\n",
       "      <th>Age</th>\n",
       "      <th>Income</th>\n",
       "      <th>Online Shopper</th>\n",
       "    </tr>\n",
       "  </thead>\n",
       "  <tbody>\n",
       "    <tr>\n",
       "      <th>0</th>\n",
       "      <td>1</td>\n",
       "      <td>49.000000</td>\n",
       "      <td>86400.000000</td>\n",
       "      <td>0</td>\n",
       "    </tr>\n",
       "    <tr>\n",
       "      <th>1</th>\n",
       "      <td>0</td>\n",
       "      <td>32.000000</td>\n",
       "      <td>57600.000000</td>\n",
       "      <td>1</td>\n",
       "    </tr>\n",
       "    <tr>\n",
       "      <th>2</th>\n",
       "      <td>2</td>\n",
       "      <td>35.000000</td>\n",
       "      <td>64800.000000</td>\n",
       "      <td>0</td>\n",
       "    </tr>\n",
       "    <tr>\n",
       "      <th>3</th>\n",
       "      <td>0</td>\n",
       "      <td>43.000000</td>\n",
       "      <td>73200.000000</td>\n",
       "      <td>0</td>\n",
       "    </tr>\n",
       "    <tr>\n",
       "      <th>4</th>\n",
       "      <td>2</td>\n",
       "      <td>45.000000</td>\n",
       "      <td>76533.333333</td>\n",
       "      <td>1</td>\n",
       "    </tr>\n",
       "    <tr>\n",
       "      <th>5</th>\n",
       "      <td>1</td>\n",
       "      <td>40.000000</td>\n",
       "      <td>69600.000000</td>\n",
       "      <td>1</td>\n",
       "    </tr>\n",
       "    <tr>\n",
       "      <th>6</th>\n",
       "      <td>0</td>\n",
       "      <td>43.777778</td>\n",
       "      <td>62400.000000</td>\n",
       "      <td>0</td>\n",
       "    </tr>\n",
       "    <tr>\n",
       "      <th>7</th>\n",
       "      <td>1</td>\n",
       "      <td>53.000000</td>\n",
       "      <td>94800.000000</td>\n",
       "      <td>1</td>\n",
       "    </tr>\n",
       "    <tr>\n",
       "      <th>8</th>\n",
       "      <td>2</td>\n",
       "      <td>55.000000</td>\n",
       "      <td>99600.000000</td>\n",
       "      <td>0</td>\n",
       "    </tr>\n",
       "    <tr>\n",
       "      <th>9</th>\n",
       "      <td>1</td>\n",
       "      <td>42.000000</td>\n",
       "      <td>80400.000000</td>\n",
       "      <td>1</td>\n",
       "    </tr>\n",
       "  </tbody>\n",
       "</table>\n",
       "</div>"
      ],
      "text/plain": [
       "   Region        Age        Income  Online Shopper\n",
       "0       1  49.000000  86400.000000               0\n",
       "1       0  32.000000  57600.000000               1\n",
       "2       2  35.000000  64800.000000               0\n",
       "3       0  43.000000  73200.000000               0\n",
       "4       2  45.000000  76533.333333               1\n",
       "5       1  40.000000  69600.000000               1\n",
       "6       0  43.777778  62400.000000               0\n",
       "7       1  53.000000  94800.000000               1\n",
       "8       2  55.000000  99600.000000               0\n",
       "9       1  42.000000  80400.000000               1"
      ]
     },
     "execution_count": 39,
     "metadata": {},
     "output_type": "execute_result"
    }
   ],
   "source": [
    "label_encoder.fit(n_d['Online Shopper'])\n",
    "n_d['Online Shopper'] = label_encoder.transform(n_d['Online Shopper'])\n",
    "n_d"
   ]
  },
  {
   "cell_type": "markdown",
   "id": "5083eea7",
   "metadata": {},
   "source": [
    "#### Feature Scaling \n",
    "\n",
    "Feature Scaling is the one of the important steps of data-preprocessing. it is a method which brings all the data in given dataset on same scale.\n",
    "\n",
    "There are various kind of feature scaling method available but here i have used the normalization method.\n",
    "\n",
    "in normalize scaling it scales the data in range of 0 to 1."
   ]
  },
  {
   "cell_type": "code",
   "execution_count": 40,
   "id": "7cde0f59",
   "metadata": {},
   "outputs": [
    {
     "data": {
      "text/plain": [
       "array([[0.5       , 0.73913043, 0.68571429],\n",
       "       [0.        , 0.        , 0.        ],\n",
       "       [1.        , 0.13043478, 0.17142857],\n",
       "       [0.        , 0.47826087, 0.37142857],\n",
       "       [1.        , 0.56521739, 0.45079365],\n",
       "       [0.5       , 0.34782609, 0.28571429],\n",
       "       [0.        , 0.51207729, 0.11428571],\n",
       "       [0.5       , 0.91304348, 0.88571429],\n",
       "       [1.        , 1.        , 1.        ],\n",
       "       [0.5       , 0.43478261, 0.54285714]])"
      ]
     },
     "execution_count": 40,
     "metadata": {},
     "output_type": "execute_result"
    }
   ],
   "source": [
    "# For normalization scaling we need to import MinMaxScaler\n",
    "from sklearn.preprocessing import MinMaxScaler\n",
    "mxscaler = MinMaxScaler()   # assigning the MinMaxScaler method to it's object.\n",
    "scaling = n_d.iloc[:, :-1] \n",
    "scaling = mxscaler.fit_transform(scaling) \n",
    "scaling"
   ]
  },
  {
   "cell_type": "markdown",
   "id": "af34e953",
   "metadata": {},
   "source": [
    "\n"
   ]
  },
  {
   "cell_type": "markdown",
   "id": "3b76790c",
   "metadata": {},
   "source": [
    "\n",
    "\n",
    "\n"
   ]
  },
  {
   "cell_type": "markdown",
   "id": "ce14b5d8",
   "metadata": {},
   "source": [
    "#### Question -- 2 "
   ]
  },
  {
   "cell_type": "code",
   "execution_count": 41,
   "id": "c4d504ff",
   "metadata": {},
   "outputs": [],
   "source": [
    "# For cleaning the text data , natural language processing(NLP) is the best technique.\n",
    "# there are various steps involved in perofrming NLP, and tokenization is one of them. there are various steps availabel\n",
    "# to perform tokenization but here we are going to use NLTK libarary.\n",
    "\n",
    "# Now, tokenization is the method of splitting the given phrases, sentances, or even whole text document in to it's smaller units like words or terms.\n",
    "# each of the word or terms after split can be recognized as \"Token\"."
   ]
  },
  {
   "cell_type": "code",
   "execution_count": 42,
   "id": "80cac59f",
   "metadata": {},
   "outputs": [],
   "source": [
    "import nltk\n",
    "import string"
   ]
  },
  {
   "cell_type": "code",
   "execution_count": 44,
   "id": "660b1184",
   "metadata": {},
   "outputs": [],
   "source": [
    "# before we tokenize the text we need to clean the text for that below i have implimented various technique.\n",
    "# readning the file\n",
    "w_text = open('C:/Users/Raj Patel/Documents/college/ml programming/wiki.txt')\n",
    "\n",
    "wiki_text = w_text.read()"
   ]
  },
  {
   "cell_type": "code",
   "execution_count": 45,
   "id": "97930610",
   "metadata": {},
   "outputs": [
    {
     "data": {
      "text/plain": [
       "'The history of NLP generally started in the 1950s, although work can be found from earlier periods. In 1950, Alan Turing published an article titled \"Computing Machinery and Intelligence\" which proposed what is now called the Turing test as a criterion of intelligence.\\n\\nThe Georgetown experiment in 1954 involved fully automatic translation of more than sixty Russian sentences into English. The authors claimed that within three or five years, machine translation would be a solved problem.[2] However, real progress was much slower, and after the ALPAC report in 1966, which found that ten-year-long research had failed to fulfill the expectations, funding for machine translation was dramatically reduced. Little further research in machine translation was conducted until the late 1980s, when the first statistical machine translation systems were developed.\\n\\nSome notably successful NLP systems developed in the 1960s were SHRDLU, a natural-language system working in restricted \"blocks worlds\" with restricted vocabularies, and ELIZA, a simulation of a Rogerian psychotherapist, written by Joseph Weizenbaum between 1964 and 1966. Using almost no information about human thought or emotion, ELIZA sometimes provided a startlingly human-like interaction. When the \"patient\" exceeded the very small knowledge base, ELIZA might provide a generic response, for example, responding to \"My head hurts\" with \"Why do you say your head hurts?\".'"
      ]
     },
     "execution_count": 45,
     "metadata": {},
     "output_type": "execute_result"
    }
   ],
   "source": [
    "wiki_text"
   ]
  },
  {
   "cell_type": "code",
   "execution_count": 46,
   "id": "56d7c039",
   "metadata": {},
   "outputs": [
    {
     "data": {
      "text/plain": [
       "'the history of nlp generally started in the 1950s, although work can be found from earlier periods. in 1950, alan turing published an article titled \"computing machinery and intelligence\" which proposed what is now called the turing test as a criterion of intelligence.\\n\\nthe georgetown experiment in 1954 involved fully automatic translation of more than sixty russian sentences into english. the authors claimed that within three or five years, machine translation would be a solved problem.[2] however, real progress was much slower, and after the alpac report in 1966, which found that ten-year-long research had failed to fulfill the expectations, funding for machine translation was dramatically reduced. little further research in machine translation was conducted until the late 1980s, when the first statistical machine translation systems were developed.\\n\\nsome notably successful nlp systems developed in the 1960s were shrdlu, a natural-language system working in restricted \"blocks worlds\" with restricted vocabularies, and eliza, a simulation of a rogerian psychotherapist, written by joseph weizenbaum between 1964 and 1966. using almost no information about human thought or emotion, eliza sometimes provided a startlingly human-like interaction. when the \"patient\" exceeded the very small knowledge base, eliza might provide a generic response, for example, responding to \"my head hurts\" with \"why do you say your head hurts?\".'"
      ]
     },
     "execution_count": 46,
     "metadata": {},
     "output_type": "execute_result"
    }
   ],
   "source": [
    "# here we don't have any heading or title text so we can convert our paragraph into lower alphabet.\n",
    "wiki_text.lower() "
   ]
  },
  {
   "cell_type": "markdown",
   "id": "2207edea",
   "metadata": {},
   "source": [
    "\n",
    "  Now for removing the punctuations from the text there are many methods available.\n",
    "  \n",
    "  here i have used  \"maketranslate\" and \"translate\" method.\n",
    "  \n",
    "  syntex: maketranslate('','',# here we will provide the text from which we want to remove punctuation)\n",
    "  first two arguments we will pass empty strings.\n",
    "  \n",
    "  now we will use translate() and pass the instance in which we performed the maketanslate() method.\n",
    "    \n"
   ]
  },
  {
   "cell_type": "code",
   "execution_count": 47,
   "id": "c2414905",
   "metadata": {},
   "outputs": [],
   "source": [
    "remove = string.punctuation\n",
    "\n",
    "translator = str.maketrans('','',remove)\n",
    "wiki_text = wiki_text.translate(translator)   "
   ]
  },
  {
   "cell_type": "code",
   "execution_count": 48,
   "id": "73962018",
   "metadata": {},
   "outputs": [
    {
     "data": {
      "text/plain": [
       "'The history of NLP generally started in the 1950s although work can be found from earlier periods In 1950 Alan Turing published an article titled Computing Machinery and Intelligence which proposed what is now called the Turing test as a criterion of intelligence\\n\\nThe Georgetown experiment in 1954 involved fully automatic translation of more than sixty Russian sentences into English The authors claimed that within three or five years machine translation would be a solved problem2 However real progress was much slower and after the ALPAC report in 1966 which found that tenyearlong research had failed to fulfill the expectations funding for machine translation was dramatically reduced Little further research in machine translation was conducted until the late 1980s when the first statistical machine translation systems were developed\\n\\nSome notably successful NLP systems developed in the 1960s were SHRDLU a naturallanguage system working in restricted blocks worlds with restricted vocabularies and ELIZA a simulation of a Rogerian psychotherapist written by Joseph Weizenbaum between 1964 and 1966 Using almost no information about human thought or emotion ELIZA sometimes provided a startlingly humanlike interaction When the patient exceeded the very small knowledge base ELIZA might provide a generic response for example responding to My head hurts with Why do you say your head hurts'"
      ]
     },
     "execution_count": 48,
     "metadata": {},
     "output_type": "execute_result"
    }
   ],
   "source": [
    "wiki_text"
   ]
  },
  {
   "cell_type": "markdown",
   "id": "2ca5128b",
   "metadata": {},
   "source": [
    "#### we can see that all the punctuatios has been gone from the paragraph"
   ]
  },
  {
   "cell_type": "code",
   "execution_count": 49,
   "id": "f371dded",
   "metadata": {},
   "outputs": [],
   "source": [
    "  # now removing the stopwords from the text \n",
    "  # stop words are those words in text that occurs many time in text but do not contribute to the actual meaning of sentences when we creating model.\n",
    "  # for example: have, had, is , am "
   ]
  },
  {
   "cell_type": "code",
   "execution_count": 50,
   "id": "3280728f",
   "metadata": {},
   "outputs": [
    {
     "name": "stderr",
     "output_type": "stream",
     "text": [
      "[nltk_data] Downloading package stopwords to C:\\Users\\Raj\n",
      "[nltk_data]     Patel\\AppData\\Roaming\\nltk_data...\n",
      "[nltk_data]   Package stopwords is already up-to-date!\n"
     ]
    },
    {
     "data": {
      "text/plain": [
       "True"
      ]
     },
     "execution_count": 50,
     "metadata": {},
     "output_type": "execute_result"
    }
   ],
   "source": [
    "nltk.download('stopwords')"
   ]
  },
  {
   "cell_type": "code",
   "execution_count": 122,
   "id": "d8a83b0b",
   "metadata": {},
   "outputs": [
    {
     "name": "stdout",
     "output_type": "stream",
     "text": [
      "['i', 'me', 'my', 'myself', 'we', 'our', 'ours', 'ourselves', 'you', \"you're\", \"you've\", \"you'll\", \"you'd\", 'your', 'yours', 'yourself', 'yourselves', 'he', 'him', 'his', 'himself', 'she', \"she's\", 'her', 'hers', 'herself', 'it', \"it's\", 'its', 'itself', 'they', 'them', 'their', 'theirs', 'themselves', 'what', 'which', 'who', 'whom', 'this', 'that', \"that'll\", 'these', 'those', 'am', 'is', 'are', 'was', 'were', 'be', 'been', 'being', 'have', 'has', 'had', 'having', 'do', 'does', 'did', 'doing', 'a', 'an', 'the', 'and', 'but', 'if', 'or', 'because', 'as', 'until', 'while', 'of', 'at', 'by', 'for', 'with', 'about', 'against', 'between', 'into', 'through', 'during', 'before', 'after', 'above', 'below', 'to', 'from', 'up', 'down', 'in', 'out', 'on', 'off', 'over', 'under', 'again', 'further', 'then', 'once', 'here', 'there', 'when', 'where', 'why', 'how', 'all', 'any', 'both', 'each', 'few', 'more', 'most', 'other', 'some', 'such', 'no', 'nor', 'not', 'only', 'own', 'same', 'so', 'than', 'too', 'very', 's', 't', 'can', 'will', 'just', 'don', \"don't\", 'should', \"should've\", 'now', 'd', 'll', 'm', 'o', 're', 've', 'y', 'ain', 'aren', \"aren't\", 'couldn', \"couldn't\", 'didn', \"didn't\", 'doesn', \"doesn't\", 'hadn', \"hadn't\", 'hasn', \"hasn't\", 'haven', \"haven't\", 'isn', \"isn't\", 'ma', 'mightn', \"mightn't\", 'mustn', \"mustn't\", 'needn', \"needn't\", 'shan', \"shan't\", 'shouldn', \"shouldn't\", 'wasn', \"wasn't\", 'weren', \"weren't\", 'won', \"won't\", 'wouldn', \"wouldn't\"]\n"
     ]
    }
   ],
   "source": [
    "from nltk.corpus import stopwords\n",
    "print(stopwords.words('english'))\n",
    "#below printed all are predefined stopwords."
   ]
  },
  {
   "cell_type": "code",
   "execution_count": 123,
   "id": "fc46e438",
   "metadata": {},
   "outputs": [],
   "source": [
    "s_w = set(stopwords.words('english')) \n",
    "wiki_text = \" \".join([word for word in str(wiki_text).split() if word not in s_w]) "
   ]
  },
  {
   "cell_type": "code",
   "execution_count": 124,
   "id": "d84cf8af",
   "metadata": {},
   "outputs": [
    {
     "data": {
      "text/plain": [
       "'The history NLP generally started 1950s although work found earlier periods In 1950 Alan Turing published article titled Computing Machinery Intelligence proposed called Turing test criterion intelligence The Georgetown experiment 1954 involved fully automatic translation sixty Russian sentences English The authors claimed within three five years machine translation would solved problem2 However real progress much slower ALPAC report 1966 found tenyearlong research failed fulfill expectations funding machine translation dramatically reduced Little research machine translation conducted late 1980s first statistical machine translation systems developed Some notably successful NLP systems developed 1960s SHRDLU naturallanguage system working restricted blocks worlds restricted vocabularies ELIZA simulation Rogerian psychotherapist written Joseph Weizenbaum 1964 1966 Using almost information human thought emotion ELIZA sometimes provided startlingly humanlike interaction When patient exceeded small knowledge base ELIZA might provide generic response example responding My head hurts Why say head hurts'"
      ]
     },
     "execution_count": 124,
     "metadata": {},
     "output_type": "execute_result"
    }
   ],
   "source": [
    "wiki_text #stop words removed."
   ]
  },
  {
   "cell_type": "code",
   "execution_count": 51,
   "id": "1fa09956",
   "metadata": {},
   "outputs": [
    {
     "data": {
      "text/plain": [
       "['The',\n",
       " 'history',\n",
       " 'of',\n",
       " 'NLP',\n",
       " 'generally',\n",
       " 'started',\n",
       " 'in',\n",
       " 'the',\n",
       " '1950s',\n",
       " 'although',\n",
       " 'work',\n",
       " 'can',\n",
       " 'be',\n",
       " 'found',\n",
       " 'from',\n",
       " 'earlier',\n",
       " 'periods',\n",
       " 'In',\n",
       " '1950',\n",
       " 'Alan',\n",
       " 'Turing',\n",
       " 'published',\n",
       " 'an',\n",
       " 'article',\n",
       " 'titled',\n",
       " 'Computing',\n",
       " 'Machinery',\n",
       " 'and',\n",
       " 'Intelligence',\n",
       " 'which',\n",
       " 'proposed',\n",
       " 'what',\n",
       " 'is',\n",
       " 'now',\n",
       " 'called',\n",
       " 'the',\n",
       " 'Turing',\n",
       " 'test',\n",
       " 'as',\n",
       " 'a',\n",
       " 'criterion',\n",
       " 'of',\n",
       " 'intelligence',\n",
       " 'The',\n",
       " 'Georgetown',\n",
       " 'experiment',\n",
       " 'in',\n",
       " '1954',\n",
       " 'involved',\n",
       " 'fully',\n",
       " 'automatic',\n",
       " 'translation',\n",
       " 'of',\n",
       " 'more',\n",
       " 'than',\n",
       " 'sixty',\n",
       " 'Russian',\n",
       " 'sentences',\n",
       " 'into',\n",
       " 'English',\n",
       " 'The',\n",
       " 'authors',\n",
       " 'claimed',\n",
       " 'that',\n",
       " 'within',\n",
       " 'three',\n",
       " 'or',\n",
       " 'five',\n",
       " 'years',\n",
       " 'machine',\n",
       " 'translation',\n",
       " 'would',\n",
       " 'be',\n",
       " 'a',\n",
       " 'solved',\n",
       " 'problem2',\n",
       " 'However',\n",
       " 'real',\n",
       " 'progress',\n",
       " 'was',\n",
       " 'much',\n",
       " 'slower',\n",
       " 'and',\n",
       " 'after',\n",
       " 'the',\n",
       " 'ALPAC',\n",
       " 'report',\n",
       " 'in',\n",
       " '1966',\n",
       " 'which',\n",
       " 'found',\n",
       " 'that',\n",
       " 'tenyearlong',\n",
       " 'research',\n",
       " 'had',\n",
       " 'failed',\n",
       " 'to',\n",
       " 'fulfill',\n",
       " 'the',\n",
       " 'expectations',\n",
       " 'funding',\n",
       " 'for',\n",
       " 'machine',\n",
       " 'translation',\n",
       " 'was',\n",
       " 'dramatically',\n",
       " 'reduced',\n",
       " 'Little',\n",
       " 'further',\n",
       " 'research',\n",
       " 'in',\n",
       " 'machine',\n",
       " 'translation',\n",
       " 'was',\n",
       " 'conducted',\n",
       " 'until',\n",
       " 'the',\n",
       " 'late',\n",
       " '1980s',\n",
       " 'when',\n",
       " 'the',\n",
       " 'first',\n",
       " 'statistical',\n",
       " 'machine',\n",
       " 'translation',\n",
       " 'systems',\n",
       " 'were',\n",
       " 'developed',\n",
       " 'Some',\n",
       " 'notably',\n",
       " 'successful',\n",
       " 'NLP',\n",
       " 'systems',\n",
       " 'developed',\n",
       " 'in',\n",
       " 'the',\n",
       " '1960s',\n",
       " 'were',\n",
       " 'SHRDLU',\n",
       " 'a',\n",
       " 'naturallanguage',\n",
       " 'system',\n",
       " 'working',\n",
       " 'in',\n",
       " 'restricted',\n",
       " 'blocks',\n",
       " 'worlds',\n",
       " 'with',\n",
       " 'restricted',\n",
       " 'vocabularies',\n",
       " 'and',\n",
       " 'ELIZA',\n",
       " 'a',\n",
       " 'simulation',\n",
       " 'of',\n",
       " 'a',\n",
       " 'Rogerian',\n",
       " 'psychotherapist',\n",
       " 'written',\n",
       " 'by',\n",
       " 'Joseph',\n",
       " 'Weizenbaum',\n",
       " 'between',\n",
       " '1964',\n",
       " 'and',\n",
       " '1966',\n",
       " 'Using',\n",
       " 'almost',\n",
       " 'no',\n",
       " 'information',\n",
       " 'about',\n",
       " 'human',\n",
       " 'thought',\n",
       " 'or',\n",
       " 'emotion',\n",
       " 'ELIZA',\n",
       " 'sometimes',\n",
       " 'provided',\n",
       " 'a',\n",
       " 'startlingly',\n",
       " 'humanlike',\n",
       " 'interaction',\n",
       " 'When',\n",
       " 'the',\n",
       " 'patient',\n",
       " 'exceeded',\n",
       " 'the',\n",
       " 'very',\n",
       " 'small',\n",
       " 'knowledge',\n",
       " 'base',\n",
       " 'ELIZA',\n",
       " 'might',\n",
       " 'provide',\n",
       " 'a',\n",
       " 'generic',\n",
       " 'response',\n",
       " 'for',\n",
       " 'example',\n",
       " 'responding',\n",
       " 'to',\n",
       " 'My',\n",
       " 'head',\n",
       " 'hurts',\n",
       " 'with',\n",
       " 'Why',\n",
       " 'do',\n",
       " 'you',\n",
       " 'say',\n",
       " 'your',\n",
       " 'head',\n",
       " 'hurts']"
      ]
     },
     "execution_count": 51,
     "metadata": {},
     "output_type": "execute_result"
    }
   ],
   "source": [
    "from nltk import word_tokenize \n",
    "\n",
    "# here i have used word_tokenize() to convert sentences into token or words.\n",
    "\n",
    "word_tokenize(wiki_text)"
   ]
  },
  {
   "cell_type": "code",
   "execution_count": 52,
   "id": "1ced912d",
   "metadata": {},
   "outputs": [
    {
     "data": {
      "text/plain": [
       "212"
      ]
     },
     "execution_count": 52,
     "metadata": {},
     "output_type": "execute_result"
    }
   ],
   "source": [
    "len(word_tokenize(wiki_text))"
   ]
  },
  {
   "cell_type": "code",
   "execution_count": 53,
   "id": "cbeb4cfe",
   "metadata": {},
   "outputs": [],
   "source": [
    "# in regexp_tokenize -- it tokenize the sentence or paragraph by matching the pattern of regularexpression."
   ]
  },
  {
   "cell_type": "code",
   "execution_count": 54,
   "id": "86e5f241",
   "metadata": {},
   "outputs": [],
   "source": [
    "from nltk import RegexpTokenizer #importing from nltk\n",
    "\n",
    "regexp_token = RegexpTokenizer('\\s+', gaps=True)  #here i have provided the reguler expression. \n",
    "                                                  # \"\\s+\" will matches space and comma from sentences.\n",
    "regexp_token = regexp_token.tokenize(wiki_text)"
   ]
  },
  {
   "cell_type": "code",
   "execution_count": 55,
   "id": "dbce41b0",
   "metadata": {},
   "outputs": [
    {
     "data": {
      "text/plain": [
       "['The',\n",
       " 'history',\n",
       " 'of',\n",
       " 'NLP',\n",
       " 'generally',\n",
       " 'started',\n",
       " 'in',\n",
       " 'the',\n",
       " '1950s',\n",
       " 'although',\n",
       " 'work',\n",
       " 'can',\n",
       " 'be',\n",
       " 'found',\n",
       " 'from',\n",
       " 'earlier',\n",
       " 'periods',\n",
       " 'In',\n",
       " '1950',\n",
       " 'Alan',\n",
       " 'Turing',\n",
       " 'published',\n",
       " 'an',\n",
       " 'article',\n",
       " 'titled',\n",
       " 'Computing',\n",
       " 'Machinery',\n",
       " 'and',\n",
       " 'Intelligence',\n",
       " 'which',\n",
       " 'proposed',\n",
       " 'what',\n",
       " 'is',\n",
       " 'now',\n",
       " 'called',\n",
       " 'the',\n",
       " 'Turing',\n",
       " 'test',\n",
       " 'as',\n",
       " 'a',\n",
       " 'criterion',\n",
       " 'of',\n",
       " 'intelligence',\n",
       " 'The',\n",
       " 'Georgetown',\n",
       " 'experiment',\n",
       " 'in',\n",
       " '1954',\n",
       " 'involved',\n",
       " 'fully',\n",
       " 'automatic',\n",
       " 'translation',\n",
       " 'of',\n",
       " 'more',\n",
       " 'than',\n",
       " 'sixty',\n",
       " 'Russian',\n",
       " 'sentences',\n",
       " 'into',\n",
       " 'English',\n",
       " 'The',\n",
       " 'authors',\n",
       " 'claimed',\n",
       " 'that',\n",
       " 'within',\n",
       " 'three',\n",
       " 'or',\n",
       " 'five',\n",
       " 'years',\n",
       " 'machine',\n",
       " 'translation',\n",
       " 'would',\n",
       " 'be',\n",
       " 'a',\n",
       " 'solved',\n",
       " 'problem2',\n",
       " 'However',\n",
       " 'real',\n",
       " 'progress',\n",
       " 'was',\n",
       " 'much',\n",
       " 'slower',\n",
       " 'and',\n",
       " 'after',\n",
       " 'the',\n",
       " 'ALPAC',\n",
       " 'report',\n",
       " 'in',\n",
       " '1966',\n",
       " 'which',\n",
       " 'found',\n",
       " 'that',\n",
       " 'tenyearlong',\n",
       " 'research',\n",
       " 'had',\n",
       " 'failed',\n",
       " 'to',\n",
       " 'fulfill',\n",
       " 'the',\n",
       " 'expectations',\n",
       " 'funding',\n",
       " 'for',\n",
       " 'machine',\n",
       " 'translation',\n",
       " 'was',\n",
       " 'dramatically',\n",
       " 'reduced',\n",
       " 'Little',\n",
       " 'further',\n",
       " 'research',\n",
       " 'in',\n",
       " 'machine',\n",
       " 'translation',\n",
       " 'was',\n",
       " 'conducted',\n",
       " 'until',\n",
       " 'the',\n",
       " 'late',\n",
       " '1980s',\n",
       " 'when',\n",
       " 'the',\n",
       " 'first',\n",
       " 'statistical',\n",
       " 'machine',\n",
       " 'translation',\n",
       " 'systems',\n",
       " 'were',\n",
       " 'developed',\n",
       " 'Some',\n",
       " 'notably',\n",
       " 'successful',\n",
       " 'NLP',\n",
       " 'systems',\n",
       " 'developed',\n",
       " 'in',\n",
       " 'the',\n",
       " '1960s',\n",
       " 'were',\n",
       " 'SHRDLU',\n",
       " 'a',\n",
       " 'naturallanguage',\n",
       " 'system',\n",
       " 'working',\n",
       " 'in',\n",
       " 'restricted',\n",
       " 'blocks',\n",
       " 'worlds',\n",
       " 'with',\n",
       " 'restricted',\n",
       " 'vocabularies',\n",
       " 'and',\n",
       " 'ELIZA',\n",
       " 'a',\n",
       " 'simulation',\n",
       " 'of',\n",
       " 'a',\n",
       " 'Rogerian',\n",
       " 'psychotherapist',\n",
       " 'written',\n",
       " 'by',\n",
       " 'Joseph',\n",
       " 'Weizenbaum',\n",
       " 'between',\n",
       " '1964',\n",
       " 'and',\n",
       " '1966',\n",
       " 'Using',\n",
       " 'almost',\n",
       " 'no',\n",
       " 'information',\n",
       " 'about',\n",
       " 'human',\n",
       " 'thought',\n",
       " 'or',\n",
       " 'emotion',\n",
       " 'ELIZA',\n",
       " 'sometimes',\n",
       " 'provided',\n",
       " 'a',\n",
       " 'startlingly',\n",
       " 'humanlike',\n",
       " 'interaction',\n",
       " 'When',\n",
       " 'the',\n",
       " 'patient',\n",
       " 'exceeded',\n",
       " 'the',\n",
       " 'very',\n",
       " 'small',\n",
       " 'knowledge',\n",
       " 'base',\n",
       " 'ELIZA',\n",
       " 'might',\n",
       " 'provide',\n",
       " 'a',\n",
       " 'generic',\n",
       " 'response',\n",
       " 'for',\n",
       " 'example',\n",
       " 'responding',\n",
       " 'to',\n",
       " 'My',\n",
       " 'head',\n",
       " 'hurts',\n",
       " 'with',\n",
       " 'Why',\n",
       " 'do',\n",
       " 'you',\n",
       " 'say',\n",
       " 'your',\n",
       " 'head',\n",
       " 'hurts']"
      ]
     },
     "execution_count": 55,
     "metadata": {},
     "output_type": "execute_result"
    }
   ],
   "source": [
    "regexp_token"
   ]
  },
  {
   "cell_type": "code",
   "execution_count": 56,
   "id": "20b9c62d",
   "metadata": {},
   "outputs": [
    {
     "data": {
      "text/plain": [
       "212"
      ]
     },
     "execution_count": 56,
     "metadata": {},
     "output_type": "execute_result"
    }
   ],
   "source": [
    "len(regexp_token)"
   ]
  },
  {
   "cell_type": "markdown",
   "id": "8723ebad",
   "metadata": {},
   "source": [
    " #### Now we will define regular expression for extracting years that appears in text."
   ]
  },
  {
   "cell_type": "code",
   "execution_count": 57,
   "id": "d8ce1354",
   "metadata": {},
   "outputs": [],
   "source": [
    "# for importing regular expression we need python \"re\" module.\n",
    "# here we want find all occurance of the date from our text.so i have used .findall() method."
   ]
  },
  {
   "cell_type": "code",
   "execution_count": 58,
   "id": "9b7b1b13",
   "metadata": {},
   "outputs": [
    {
     "data": {
      "text/plain": [
       "['1950', '1950', '1954', '1966', '1980', '1960', '1964', '1966']"
      ]
     },
     "execution_count": 58,
     "metadata": {},
     "output_type": "execute_result"
    }
   ],
   "source": [
    "import re \n",
    "find_year = re.findall('(\\d{4})', wiki_text) # here reg.exp. is \"\\d{4}\" which matches the pattern which contains the four digits.that would be our year in this text.\n",
    "find_year"
   ]
  },
  {
   "cell_type": "markdown",
   "id": "60081621",
   "metadata": {},
   "source": [
    " ###### Observation:  here tokenize the text by two different methods, we can observe that there is no difference in output of those two                                                            method. we can also see that by checking the length of two output."
   ]
  },
  {
   "cell_type": "markdown",
   "id": "3e75c95b",
   "metadata": {},
   "source": [
    "\n",
    "\n",
    "\n"
   ]
  },
  {
   "cell_type": "markdown",
   "id": "75a8b42f",
   "metadata": {},
   "source": [
    "\n",
    "\n",
    "#### Task -- 3\n",
    "\n"
   ]
  },
  {
   "cell_type": "code",
   "execution_count": 59,
   "id": "869aa867",
   "metadata": {},
   "outputs": [],
   "source": [
    "mlb_house = pd.read_csv('C:/Users/Raj Patel/Documents/college/ml programming/melb_data.csv') "
   ]
  },
  {
   "cell_type": "code",
   "execution_count": 60,
   "id": "ea9a4b32",
   "metadata": {},
   "outputs": [
    {
     "data": {
      "text/html": [
       "<div>\n",
       "<style scoped>\n",
       "    .dataframe tbody tr th:only-of-type {\n",
       "        vertical-align: middle;\n",
       "    }\n",
       "\n",
       "    .dataframe tbody tr th {\n",
       "        vertical-align: top;\n",
       "    }\n",
       "\n",
       "    .dataframe thead th {\n",
       "        text-align: right;\n",
       "    }\n",
       "</style>\n",
       "<table border=\"1\" class=\"dataframe\">\n",
       "  <thead>\n",
       "    <tr style=\"text-align: right;\">\n",
       "      <th></th>\n",
       "      <th>Suburb</th>\n",
       "      <th>Address</th>\n",
       "      <th>Rooms</th>\n",
       "      <th>Type</th>\n",
       "      <th>Price</th>\n",
       "      <th>Method</th>\n",
       "      <th>SellerG</th>\n",
       "      <th>Date</th>\n",
       "      <th>Distance</th>\n",
       "      <th>Postcode</th>\n",
       "      <th>...</th>\n",
       "      <th>Bathroom</th>\n",
       "      <th>Car</th>\n",
       "      <th>Landsize</th>\n",
       "      <th>BuildingArea</th>\n",
       "      <th>YearBuilt</th>\n",
       "      <th>CouncilArea</th>\n",
       "      <th>Lattitude</th>\n",
       "      <th>Longtitude</th>\n",
       "      <th>Regionname</th>\n",
       "      <th>Propertycount</th>\n",
       "    </tr>\n",
       "  </thead>\n",
       "  <tbody>\n",
       "    <tr>\n",
       "      <th>0</th>\n",
       "      <td>Abbotsford</td>\n",
       "      <td>85 Turner St</td>\n",
       "      <td>2</td>\n",
       "      <td>h</td>\n",
       "      <td>1480000.0</td>\n",
       "      <td>S</td>\n",
       "      <td>Biggin</td>\n",
       "      <td>3/12/2016</td>\n",
       "      <td>2.5</td>\n",
       "      <td>3067.0</td>\n",
       "      <td>...</td>\n",
       "      <td>1.0</td>\n",
       "      <td>1.0</td>\n",
       "      <td>202.0</td>\n",
       "      <td>NaN</td>\n",
       "      <td>NaN</td>\n",
       "      <td>Yarra</td>\n",
       "      <td>-37.79960</td>\n",
       "      <td>144.99840</td>\n",
       "      <td>Northern Metropolitan</td>\n",
       "      <td>4019.0</td>\n",
       "    </tr>\n",
       "    <tr>\n",
       "      <th>1</th>\n",
       "      <td>Abbotsford</td>\n",
       "      <td>25 Bloomburg St</td>\n",
       "      <td>2</td>\n",
       "      <td>h</td>\n",
       "      <td>1035000.0</td>\n",
       "      <td>S</td>\n",
       "      <td>Biggin</td>\n",
       "      <td>4/02/2016</td>\n",
       "      <td>2.5</td>\n",
       "      <td>3067.0</td>\n",
       "      <td>...</td>\n",
       "      <td>1.0</td>\n",
       "      <td>0.0</td>\n",
       "      <td>156.0</td>\n",
       "      <td>79.0</td>\n",
       "      <td>1900.0</td>\n",
       "      <td>Yarra</td>\n",
       "      <td>-37.80790</td>\n",
       "      <td>144.99340</td>\n",
       "      <td>Northern Metropolitan</td>\n",
       "      <td>4019.0</td>\n",
       "    </tr>\n",
       "    <tr>\n",
       "      <th>2</th>\n",
       "      <td>Abbotsford</td>\n",
       "      <td>5 Charles St</td>\n",
       "      <td>3</td>\n",
       "      <td>h</td>\n",
       "      <td>1465000.0</td>\n",
       "      <td>SP</td>\n",
       "      <td>Biggin</td>\n",
       "      <td>4/03/2017</td>\n",
       "      <td>2.5</td>\n",
       "      <td>3067.0</td>\n",
       "      <td>...</td>\n",
       "      <td>2.0</td>\n",
       "      <td>0.0</td>\n",
       "      <td>134.0</td>\n",
       "      <td>150.0</td>\n",
       "      <td>1900.0</td>\n",
       "      <td>Yarra</td>\n",
       "      <td>-37.80930</td>\n",
       "      <td>144.99440</td>\n",
       "      <td>Northern Metropolitan</td>\n",
       "      <td>4019.0</td>\n",
       "    </tr>\n",
       "    <tr>\n",
       "      <th>3</th>\n",
       "      <td>Abbotsford</td>\n",
       "      <td>40 Federation La</td>\n",
       "      <td>3</td>\n",
       "      <td>h</td>\n",
       "      <td>850000.0</td>\n",
       "      <td>PI</td>\n",
       "      <td>Biggin</td>\n",
       "      <td>4/03/2017</td>\n",
       "      <td>2.5</td>\n",
       "      <td>3067.0</td>\n",
       "      <td>...</td>\n",
       "      <td>2.0</td>\n",
       "      <td>1.0</td>\n",
       "      <td>94.0</td>\n",
       "      <td>NaN</td>\n",
       "      <td>NaN</td>\n",
       "      <td>Yarra</td>\n",
       "      <td>-37.79690</td>\n",
       "      <td>144.99690</td>\n",
       "      <td>Northern Metropolitan</td>\n",
       "      <td>4019.0</td>\n",
       "    </tr>\n",
       "    <tr>\n",
       "      <th>4</th>\n",
       "      <td>Abbotsford</td>\n",
       "      <td>55a Park St</td>\n",
       "      <td>4</td>\n",
       "      <td>h</td>\n",
       "      <td>1600000.0</td>\n",
       "      <td>VB</td>\n",
       "      <td>Nelson</td>\n",
       "      <td>4/06/2016</td>\n",
       "      <td>2.5</td>\n",
       "      <td>3067.0</td>\n",
       "      <td>...</td>\n",
       "      <td>1.0</td>\n",
       "      <td>2.0</td>\n",
       "      <td>120.0</td>\n",
       "      <td>142.0</td>\n",
       "      <td>2014.0</td>\n",
       "      <td>Yarra</td>\n",
       "      <td>-37.80720</td>\n",
       "      <td>144.99410</td>\n",
       "      <td>Northern Metropolitan</td>\n",
       "      <td>4019.0</td>\n",
       "    </tr>\n",
       "    <tr>\n",
       "      <th>...</th>\n",
       "      <td>...</td>\n",
       "      <td>...</td>\n",
       "      <td>...</td>\n",
       "      <td>...</td>\n",
       "      <td>...</td>\n",
       "      <td>...</td>\n",
       "      <td>...</td>\n",
       "      <td>...</td>\n",
       "      <td>...</td>\n",
       "      <td>...</td>\n",
       "      <td>...</td>\n",
       "      <td>...</td>\n",
       "      <td>...</td>\n",
       "      <td>...</td>\n",
       "      <td>...</td>\n",
       "      <td>...</td>\n",
       "      <td>...</td>\n",
       "      <td>...</td>\n",
       "      <td>...</td>\n",
       "      <td>...</td>\n",
       "      <td>...</td>\n",
       "    </tr>\n",
       "    <tr>\n",
       "      <th>13575</th>\n",
       "      <td>Wheelers Hill</td>\n",
       "      <td>12 Strada Cr</td>\n",
       "      <td>4</td>\n",
       "      <td>h</td>\n",
       "      <td>1245000.0</td>\n",
       "      <td>S</td>\n",
       "      <td>Barry</td>\n",
       "      <td>26/08/2017</td>\n",
       "      <td>16.7</td>\n",
       "      <td>3150.0</td>\n",
       "      <td>...</td>\n",
       "      <td>2.0</td>\n",
       "      <td>2.0</td>\n",
       "      <td>652.0</td>\n",
       "      <td>NaN</td>\n",
       "      <td>1981.0</td>\n",
       "      <td>NaN</td>\n",
       "      <td>-37.90562</td>\n",
       "      <td>145.16761</td>\n",
       "      <td>South-Eastern Metropolitan</td>\n",
       "      <td>7392.0</td>\n",
       "    </tr>\n",
       "    <tr>\n",
       "      <th>13576</th>\n",
       "      <td>Williamstown</td>\n",
       "      <td>77 Merrett Dr</td>\n",
       "      <td>3</td>\n",
       "      <td>h</td>\n",
       "      <td>1031000.0</td>\n",
       "      <td>SP</td>\n",
       "      <td>Williams</td>\n",
       "      <td>26/08/2017</td>\n",
       "      <td>6.8</td>\n",
       "      <td>3016.0</td>\n",
       "      <td>...</td>\n",
       "      <td>2.0</td>\n",
       "      <td>2.0</td>\n",
       "      <td>333.0</td>\n",
       "      <td>133.0</td>\n",
       "      <td>1995.0</td>\n",
       "      <td>NaN</td>\n",
       "      <td>-37.85927</td>\n",
       "      <td>144.87904</td>\n",
       "      <td>Western Metropolitan</td>\n",
       "      <td>6380.0</td>\n",
       "    </tr>\n",
       "    <tr>\n",
       "      <th>13577</th>\n",
       "      <td>Williamstown</td>\n",
       "      <td>83 Power St</td>\n",
       "      <td>3</td>\n",
       "      <td>h</td>\n",
       "      <td>1170000.0</td>\n",
       "      <td>S</td>\n",
       "      <td>Raine</td>\n",
       "      <td>26/08/2017</td>\n",
       "      <td>6.8</td>\n",
       "      <td>3016.0</td>\n",
       "      <td>...</td>\n",
       "      <td>2.0</td>\n",
       "      <td>4.0</td>\n",
       "      <td>436.0</td>\n",
       "      <td>NaN</td>\n",
       "      <td>1997.0</td>\n",
       "      <td>NaN</td>\n",
       "      <td>-37.85274</td>\n",
       "      <td>144.88738</td>\n",
       "      <td>Western Metropolitan</td>\n",
       "      <td>6380.0</td>\n",
       "    </tr>\n",
       "    <tr>\n",
       "      <th>13578</th>\n",
       "      <td>Williamstown</td>\n",
       "      <td>96 Verdon St</td>\n",
       "      <td>4</td>\n",
       "      <td>h</td>\n",
       "      <td>2500000.0</td>\n",
       "      <td>PI</td>\n",
       "      <td>Sweeney</td>\n",
       "      <td>26/08/2017</td>\n",
       "      <td>6.8</td>\n",
       "      <td>3016.0</td>\n",
       "      <td>...</td>\n",
       "      <td>1.0</td>\n",
       "      <td>5.0</td>\n",
       "      <td>866.0</td>\n",
       "      <td>157.0</td>\n",
       "      <td>1920.0</td>\n",
       "      <td>NaN</td>\n",
       "      <td>-37.85908</td>\n",
       "      <td>144.89299</td>\n",
       "      <td>Western Metropolitan</td>\n",
       "      <td>6380.0</td>\n",
       "    </tr>\n",
       "    <tr>\n",
       "      <th>13579</th>\n",
       "      <td>Yarraville</td>\n",
       "      <td>6 Agnes St</td>\n",
       "      <td>4</td>\n",
       "      <td>h</td>\n",
       "      <td>1285000.0</td>\n",
       "      <td>SP</td>\n",
       "      <td>Village</td>\n",
       "      <td>26/08/2017</td>\n",
       "      <td>6.3</td>\n",
       "      <td>3013.0</td>\n",
       "      <td>...</td>\n",
       "      <td>1.0</td>\n",
       "      <td>1.0</td>\n",
       "      <td>362.0</td>\n",
       "      <td>112.0</td>\n",
       "      <td>1920.0</td>\n",
       "      <td>NaN</td>\n",
       "      <td>-37.81188</td>\n",
       "      <td>144.88449</td>\n",
       "      <td>Western Metropolitan</td>\n",
       "      <td>6543.0</td>\n",
       "    </tr>\n",
       "  </tbody>\n",
       "</table>\n",
       "<p>13580 rows × 21 columns</p>\n",
       "</div>"
      ],
      "text/plain": [
       "              Suburb           Address  Rooms Type      Price Method  \\\n",
       "0         Abbotsford      85 Turner St      2    h  1480000.0      S   \n",
       "1         Abbotsford   25 Bloomburg St      2    h  1035000.0      S   \n",
       "2         Abbotsford      5 Charles St      3    h  1465000.0     SP   \n",
       "3         Abbotsford  40 Federation La      3    h   850000.0     PI   \n",
       "4         Abbotsford       55a Park St      4    h  1600000.0     VB   \n",
       "...              ...               ...    ...  ...        ...    ...   \n",
       "13575  Wheelers Hill      12 Strada Cr      4    h  1245000.0      S   \n",
       "13576   Williamstown     77 Merrett Dr      3    h  1031000.0     SP   \n",
       "13577   Williamstown       83 Power St      3    h  1170000.0      S   \n",
       "13578   Williamstown      96 Verdon St      4    h  2500000.0     PI   \n",
       "13579     Yarraville        6 Agnes St      4    h  1285000.0     SP   \n",
       "\n",
       "        SellerG        Date  Distance  Postcode  ...  Bathroom  Car  Landsize  \\\n",
       "0        Biggin   3/12/2016       2.5    3067.0  ...       1.0  1.0     202.0   \n",
       "1        Biggin   4/02/2016       2.5    3067.0  ...       1.0  0.0     156.0   \n",
       "2        Biggin   4/03/2017       2.5    3067.0  ...       2.0  0.0     134.0   \n",
       "3        Biggin   4/03/2017       2.5    3067.0  ...       2.0  1.0      94.0   \n",
       "4        Nelson   4/06/2016       2.5    3067.0  ...       1.0  2.0     120.0   \n",
       "...         ...         ...       ...       ...  ...       ...  ...       ...   \n",
       "13575     Barry  26/08/2017      16.7    3150.0  ...       2.0  2.0     652.0   \n",
       "13576  Williams  26/08/2017       6.8    3016.0  ...       2.0  2.0     333.0   \n",
       "13577     Raine  26/08/2017       6.8    3016.0  ...       2.0  4.0     436.0   \n",
       "13578   Sweeney  26/08/2017       6.8    3016.0  ...       1.0  5.0     866.0   \n",
       "13579   Village  26/08/2017       6.3    3013.0  ...       1.0  1.0     362.0   \n",
       "\n",
       "       BuildingArea  YearBuilt  CouncilArea Lattitude  Longtitude  \\\n",
       "0               NaN        NaN        Yarra -37.79960   144.99840   \n",
       "1              79.0     1900.0        Yarra -37.80790   144.99340   \n",
       "2             150.0     1900.0        Yarra -37.80930   144.99440   \n",
       "3               NaN        NaN        Yarra -37.79690   144.99690   \n",
       "4             142.0     2014.0        Yarra -37.80720   144.99410   \n",
       "...             ...        ...          ...       ...         ...   \n",
       "13575           NaN     1981.0          NaN -37.90562   145.16761   \n",
       "13576         133.0     1995.0          NaN -37.85927   144.87904   \n",
       "13577           NaN     1997.0          NaN -37.85274   144.88738   \n",
       "13578         157.0     1920.0          NaN -37.85908   144.89299   \n",
       "13579         112.0     1920.0          NaN -37.81188   144.88449   \n",
       "\n",
       "                       Regionname Propertycount  \n",
       "0           Northern Metropolitan        4019.0  \n",
       "1           Northern Metropolitan        4019.0  \n",
       "2           Northern Metropolitan        4019.0  \n",
       "3           Northern Metropolitan        4019.0  \n",
       "4           Northern Metropolitan        4019.0  \n",
       "...                           ...           ...  \n",
       "13575  South-Eastern Metropolitan        7392.0  \n",
       "13576        Western Metropolitan        6380.0  \n",
       "13577        Western Metropolitan        6380.0  \n",
       "13578        Western Metropolitan        6380.0  \n",
       "13579        Western Metropolitan        6543.0  \n",
       "\n",
       "[13580 rows x 21 columns]"
      ]
     },
     "execution_count": 60,
     "metadata": {},
     "output_type": "execute_result"
    }
   ],
   "source": [
    "mlb_house"
   ]
  },
  {
   "cell_type": "code",
   "execution_count": 61,
   "id": "d4e5c412",
   "metadata": {},
   "outputs": [
    {
     "data": {
      "text/plain": [
       "Suburb              0\n",
       "Address             0\n",
       "Rooms               0\n",
       "Type                0\n",
       "Price               0\n",
       "Method              0\n",
       "SellerG             0\n",
       "Date                0\n",
       "Distance            0\n",
       "Postcode            0\n",
       "Bedroom2            0\n",
       "Bathroom            0\n",
       "Car                62\n",
       "Landsize            0\n",
       "BuildingArea     6450\n",
       "YearBuilt        5375\n",
       "CouncilArea      1369\n",
       "Lattitude           0\n",
       "Longtitude          0\n",
       "Regionname          0\n",
       "Propertycount       0\n",
       "dtype: int64"
      ]
     },
     "execution_count": 61,
     "metadata": {},
     "output_type": "execute_result"
    }
   ],
   "source": [
    "mlb_house.isnull().sum() # there are four columns which contains null value. "
   ]
  },
  {
   "cell_type": "code",
   "execution_count": 62,
   "id": "6c124b0c",
   "metadata": {},
   "outputs": [
    {
     "data": {
      "text/plain": [
       "1.6100754549489569"
      ]
     },
     "execution_count": 62,
     "metadata": {},
     "output_type": "execute_result"
    }
   ],
   "source": [
    "# here i have find the mean of the column beacause i want to replace the null value by it.\n",
    "mean_car = mlb_house['Car'].mean()\n",
    "mean_car"
   ]
  },
  {
   "cell_type": "code",
   "execution_count": 63,
   "id": "bdabea9c",
   "metadata": {},
   "outputs": [],
   "source": [
    "mlb_house['Car'].fillna(value = mean_car , inplace = True)   #replacing the value by mean"
   ]
  },
  {
   "cell_type": "code",
   "execution_count": 65,
   "id": "c8a1bb48",
   "metadata": {},
   "outputs": [
    {
     "data": {
      "text/plain": [
       "0"
      ]
     },
     "execution_count": 65,
     "metadata": {},
     "output_type": "execute_result"
    }
   ],
   "source": [
    "mlb_house['Car'].isnull().sum()  # missing value has been dealt with"
   ]
  },
  {
   "cell_type": "code",
   "execution_count": 66,
   "id": "57b96849",
   "metadata": {},
   "outputs": [
    {
     "data": {
      "text/plain": [
       "151.96764988779805"
      ]
     },
     "execution_count": 66,
     "metadata": {},
     "output_type": "execute_result"
    }
   ],
   "source": [
    "mean_BuildingArea = mlb_house['BuildingArea'].mean() \n",
    "mean_BuildingArea "
   ]
  },
  {
   "cell_type": "code",
   "execution_count": 67,
   "id": "7d2fce99",
   "metadata": {},
   "outputs": [],
   "source": [
    "mlb_house['BuildingArea'].fillna(value = mean_BuildingArea, inplace = True)"
   ]
  },
  {
   "cell_type": "code",
   "execution_count": 68,
   "id": "71406709",
   "metadata": {},
   "outputs": [
    {
     "data": {
      "text/plain": [
       "0"
      ]
     },
     "execution_count": 68,
     "metadata": {},
     "output_type": "execute_result"
    }
   ],
   "source": [
    "mlb_house['BuildingArea'].isnull().sum()"
   ]
  },
  {
   "cell_type": "code",
   "execution_count": 69,
   "id": "9d366128",
   "metadata": {},
   "outputs": [],
   "source": [
    "mlb_house['YearBuilt'].fillna(mlb_house['YearBuilt'].value_counts().index[0], inplace = True)\n",
    "# year's mean would give us float value and it's not appropriate so i replaced null value by it's first index's value"
   ]
  },
  {
   "cell_type": "code",
   "execution_count": 70,
   "id": "63ceb03c",
   "metadata": {},
   "outputs": [
    {
     "data": {
      "text/plain": [
       "0"
      ]
     },
     "execution_count": 70,
     "metadata": {},
     "output_type": "execute_result"
    }
   ],
   "source": [
    "mlb_house['YearBuilt'].isnull().sum()"
   ]
  },
  {
   "cell_type": "code",
   "execution_count": 71,
   "id": "825a1a74",
   "metadata": {},
   "outputs": [],
   "source": [
    "mlb_house['CouncilArea'].fillna(mlb_house['CouncilArea'].value_counts().index[0], inplace = True)\n",
    "#same for the Council Area"
   ]
  },
  {
   "cell_type": "code",
   "execution_count": 72,
   "id": "3a191a5f",
   "metadata": {},
   "outputs": [
    {
     "data": {
      "text/plain": [
       "0"
      ]
     },
     "execution_count": 72,
     "metadata": {},
     "output_type": "execute_result"
    }
   ],
   "source": [
    "mlb_house['CouncilArea'].isnull().sum()"
   ]
  },
  {
   "cell_type": "code",
   "execution_count": 73,
   "id": "e4d1042d",
   "metadata": {},
   "outputs": [
    {
     "data": {
      "text/plain": [
       "Suburb           0\n",
       "Address          0\n",
       "Rooms            0\n",
       "Type             0\n",
       "Price            0\n",
       "Method           0\n",
       "SellerG          0\n",
       "Date             0\n",
       "Distance         0\n",
       "Postcode         0\n",
       "Bedroom2         0\n",
       "Bathroom         0\n",
       "Car              0\n",
       "Landsize         0\n",
       "BuildingArea     0\n",
       "YearBuilt        0\n",
       "CouncilArea      0\n",
       "Lattitude        0\n",
       "Longtitude       0\n",
       "Regionname       0\n",
       "Propertycount    0\n",
       "dtype: int64"
      ]
     },
     "execution_count": 73,
     "metadata": {},
     "output_type": "execute_result"
    }
   ],
   "source": [
    "mlb_house.isnull().sum() #all the null value has been dealt with"
   ]
  },
  {
   "cell_type": "code",
   "execution_count": 74,
   "id": "2e58365d",
   "metadata": {},
   "outputs": [],
   "source": [
    "mlb_house.drop_duplicates(inplace = True) "
   ]
  },
  {
   "cell_type": "code",
   "execution_count": 75,
   "id": "6aec2c8c",
   "metadata": {},
   "outputs": [
    {
     "data": {
      "text/plain": [
       "(13580, 21)"
      ]
     },
     "execution_count": 75,
     "metadata": {},
     "output_type": "execute_result"
    }
   ],
   "source": [
    "mlb_house.shape # we had no duplicate values in our dataset"
   ]
  },
  {
   "cell_type": "code",
   "execution_count": 76,
   "id": "76b43335",
   "metadata": {},
   "outputs": [
    {
     "data": {
      "text/html": [
       "<div>\n",
       "<style scoped>\n",
       "    .dataframe tbody tr th:only-of-type {\n",
       "        vertical-align: middle;\n",
       "    }\n",
       "\n",
       "    .dataframe tbody tr th {\n",
       "        vertical-align: top;\n",
       "    }\n",
       "\n",
       "    .dataframe thead th {\n",
       "        text-align: right;\n",
       "    }\n",
       "</style>\n",
       "<table border=\"1\" class=\"dataframe\">\n",
       "  <thead>\n",
       "    <tr style=\"text-align: right;\">\n",
       "      <th></th>\n",
       "      <th>Rooms</th>\n",
       "      <th>Price</th>\n",
       "      <th>Distance</th>\n",
       "      <th>Postcode</th>\n",
       "      <th>Bedroom2</th>\n",
       "      <th>Bathroom</th>\n",
       "      <th>Car</th>\n",
       "      <th>Landsize</th>\n",
       "      <th>BuildingArea</th>\n",
       "      <th>YearBuilt</th>\n",
       "      <th>Lattitude</th>\n",
       "      <th>Longtitude</th>\n",
       "      <th>Propertycount</th>\n",
       "    </tr>\n",
       "  </thead>\n",
       "  <tbody>\n",
       "    <tr>\n",
       "      <th>Rooms</th>\n",
       "      <td>1.000000</td>\n",
       "      <td>0.496634</td>\n",
       "      <td>0.294203</td>\n",
       "      <td>0.055303</td>\n",
       "      <td>0.944190</td>\n",
       "      <td>0.592934</td>\n",
       "      <td>0.407843</td>\n",
       "      <td>0.025678</td>\n",
       "      <td>0.091373</td>\n",
       "      <td>-0.051562</td>\n",
       "      <td>0.015948</td>\n",
       "      <td>0.100771</td>\n",
       "      <td>-0.081530</td>\n",
       "    </tr>\n",
       "    <tr>\n",
       "      <th>Price</th>\n",
       "      <td>0.496634</td>\n",
       "      <td>1.000000</td>\n",
       "      <td>-0.162522</td>\n",
       "      <td>0.107867</td>\n",
       "      <td>0.475951</td>\n",
       "      <td>0.467038</td>\n",
       "      <td>0.238637</td>\n",
       "      <td>0.037507</td>\n",
       "      <td>0.069570</td>\n",
       "      <td>-0.259387</td>\n",
       "      <td>-0.212934</td>\n",
       "      <td>0.203656</td>\n",
       "      <td>-0.042153</td>\n",
       "    </tr>\n",
       "    <tr>\n",
       "      <th>Distance</th>\n",
       "      <td>0.294203</td>\n",
       "      <td>-0.162522</td>\n",
       "      <td>1.000000</td>\n",
       "      <td>0.431514</td>\n",
       "      <td>0.295927</td>\n",
       "      <td>0.127155</td>\n",
       "      <td>0.262074</td>\n",
       "      <td>0.025004</td>\n",
       "      <td>0.073990</td>\n",
       "      <td>0.194815</td>\n",
       "      <td>-0.130723</td>\n",
       "      <td>0.239425</td>\n",
       "      <td>-0.054910</td>\n",
       "    </tr>\n",
       "    <tr>\n",
       "      <th>Postcode</th>\n",
       "      <td>0.055303</td>\n",
       "      <td>0.107867</td>\n",
       "      <td>0.431514</td>\n",
       "      <td>1.000000</td>\n",
       "      <td>0.060584</td>\n",
       "      <td>0.113664</td>\n",
       "      <td>0.050201</td>\n",
       "      <td>0.024558</td>\n",
       "      <td>0.040714</td>\n",
       "      <td>0.025400</td>\n",
       "      <td>-0.406104</td>\n",
       "      <td>0.445357</td>\n",
       "      <td>0.062304</td>\n",
       "    </tr>\n",
       "    <tr>\n",
       "      <th>Bedroom2</th>\n",
       "      <td>0.944190</td>\n",
       "      <td>0.475951</td>\n",
       "      <td>0.295927</td>\n",
       "      <td>0.060584</td>\n",
       "      <td>1.000000</td>\n",
       "      <td>0.584685</td>\n",
       "      <td>0.404721</td>\n",
       "      <td>0.025646</td>\n",
       "      <td>0.089102</td>\n",
       "      <td>-0.041331</td>\n",
       "      <td>0.015925</td>\n",
       "      <td>0.102238</td>\n",
       "      <td>-0.081350</td>\n",
       "    </tr>\n",
       "    <tr>\n",
       "      <th>Bathroom</th>\n",
       "      <td>0.592934</td>\n",
       "      <td>0.467038</td>\n",
       "      <td>0.127155</td>\n",
       "      <td>0.113664</td>\n",
       "      <td>0.584685</td>\n",
       "      <td>1.000000</td>\n",
       "      <td>0.321788</td>\n",
       "      <td>0.037130</td>\n",
       "      <td>0.084462</td>\n",
       "      <td>0.113957</td>\n",
       "      <td>-0.070594</td>\n",
       "      <td>0.118971</td>\n",
       "      <td>-0.052201</td>\n",
       "    </tr>\n",
       "    <tr>\n",
       "      <th>Car</th>\n",
       "      <td>0.407843</td>\n",
       "      <td>0.238637</td>\n",
       "      <td>0.262074</td>\n",
       "      <td>0.050201</td>\n",
       "      <td>0.404721</td>\n",
       "      <td>0.321788</td>\n",
       "      <td>1.000000</td>\n",
       "      <td>0.026759</td>\n",
       "      <td>0.068389</td>\n",
       "      <td>0.080473</td>\n",
       "      <td>-0.001961</td>\n",
       "      <td>0.063304</td>\n",
       "      <td>-0.024255</td>\n",
       "    </tr>\n",
       "    <tr>\n",
       "      <th>Landsize</th>\n",
       "      <td>0.025678</td>\n",
       "      <td>0.037507</td>\n",
       "      <td>0.025004</td>\n",
       "      <td>0.024558</td>\n",
       "      <td>0.025646</td>\n",
       "      <td>0.037130</td>\n",
       "      <td>0.026759</td>\n",
       "      <td>1.000000</td>\n",
       "      <td>0.094659</td>\n",
       "      <td>0.008806</td>\n",
       "      <td>0.009695</td>\n",
       "      <td>0.010833</td>\n",
       "      <td>-0.006854</td>\n",
       "    </tr>\n",
       "    <tr>\n",
       "      <th>BuildingArea</th>\n",
       "      <td>0.091373</td>\n",
       "      <td>0.069570</td>\n",
       "      <td>0.073990</td>\n",
       "      <td>0.040714</td>\n",
       "      <td>0.089102</td>\n",
       "      <td>0.084462</td>\n",
       "      <td>0.068389</td>\n",
       "      <td>0.094659</td>\n",
       "      <td>1.000000</td>\n",
       "      <td>0.005178</td>\n",
       "      <td>0.031799</td>\n",
       "      <td>-0.017441</td>\n",
       "      <td>-0.020736</td>\n",
       "    </tr>\n",
       "    <tr>\n",
       "      <th>YearBuilt</th>\n",
       "      <td>-0.051562</td>\n",
       "      <td>-0.259387</td>\n",
       "      <td>0.194815</td>\n",
       "      <td>0.025400</td>\n",
       "      <td>-0.041331</td>\n",
       "      <td>0.113957</td>\n",
       "      <td>0.080473</td>\n",
       "      <td>0.008806</td>\n",
       "      <td>0.005178</td>\n",
       "      <td>1.000000</td>\n",
       "      <td>0.046718</td>\n",
       "      <td>-0.000515</td>\n",
       "      <td>0.004421</td>\n",
       "    </tr>\n",
       "    <tr>\n",
       "      <th>Lattitude</th>\n",
       "      <td>0.015948</td>\n",
       "      <td>-0.212934</td>\n",
       "      <td>-0.130723</td>\n",
       "      <td>-0.406104</td>\n",
       "      <td>0.015925</td>\n",
       "      <td>-0.070594</td>\n",
       "      <td>-0.001961</td>\n",
       "      <td>0.009695</td>\n",
       "      <td>0.031799</td>\n",
       "      <td>0.046718</td>\n",
       "      <td>1.000000</td>\n",
       "      <td>-0.357634</td>\n",
       "      <td>0.047086</td>\n",
       "    </tr>\n",
       "    <tr>\n",
       "      <th>Longtitude</th>\n",
       "      <td>0.100771</td>\n",
       "      <td>0.203656</td>\n",
       "      <td>0.239425</td>\n",
       "      <td>0.445357</td>\n",
       "      <td>0.102238</td>\n",
       "      <td>0.118971</td>\n",
       "      <td>0.063304</td>\n",
       "      <td>0.010833</td>\n",
       "      <td>-0.017441</td>\n",
       "      <td>-0.000515</td>\n",
       "      <td>-0.357634</td>\n",
       "      <td>1.000000</td>\n",
       "      <td>0.065988</td>\n",
       "    </tr>\n",
       "    <tr>\n",
       "      <th>Propertycount</th>\n",
       "      <td>-0.081530</td>\n",
       "      <td>-0.042153</td>\n",
       "      <td>-0.054910</td>\n",
       "      <td>0.062304</td>\n",
       "      <td>-0.081350</td>\n",
       "      <td>-0.052201</td>\n",
       "      <td>-0.024255</td>\n",
       "      <td>-0.006854</td>\n",
       "      <td>-0.020736</td>\n",
       "      <td>0.004421</td>\n",
       "      <td>0.047086</td>\n",
       "      <td>0.065988</td>\n",
       "      <td>1.000000</td>\n",
       "    </tr>\n",
       "  </tbody>\n",
       "</table>\n",
       "</div>"
      ],
      "text/plain": [
       "                  Rooms     Price  Distance  Postcode  Bedroom2  Bathroom  \\\n",
       "Rooms          1.000000  0.496634  0.294203  0.055303  0.944190  0.592934   \n",
       "Price          0.496634  1.000000 -0.162522  0.107867  0.475951  0.467038   \n",
       "Distance       0.294203 -0.162522  1.000000  0.431514  0.295927  0.127155   \n",
       "Postcode       0.055303  0.107867  0.431514  1.000000  0.060584  0.113664   \n",
       "Bedroom2       0.944190  0.475951  0.295927  0.060584  1.000000  0.584685   \n",
       "Bathroom       0.592934  0.467038  0.127155  0.113664  0.584685  1.000000   \n",
       "Car            0.407843  0.238637  0.262074  0.050201  0.404721  0.321788   \n",
       "Landsize       0.025678  0.037507  0.025004  0.024558  0.025646  0.037130   \n",
       "BuildingArea   0.091373  0.069570  0.073990  0.040714  0.089102  0.084462   \n",
       "YearBuilt     -0.051562 -0.259387  0.194815  0.025400 -0.041331  0.113957   \n",
       "Lattitude      0.015948 -0.212934 -0.130723 -0.406104  0.015925 -0.070594   \n",
       "Longtitude     0.100771  0.203656  0.239425  0.445357  0.102238  0.118971   \n",
       "Propertycount -0.081530 -0.042153 -0.054910  0.062304 -0.081350 -0.052201   \n",
       "\n",
       "                    Car  Landsize  BuildingArea  YearBuilt  Lattitude  \\\n",
       "Rooms          0.407843  0.025678      0.091373  -0.051562   0.015948   \n",
       "Price          0.238637  0.037507      0.069570  -0.259387  -0.212934   \n",
       "Distance       0.262074  0.025004      0.073990   0.194815  -0.130723   \n",
       "Postcode       0.050201  0.024558      0.040714   0.025400  -0.406104   \n",
       "Bedroom2       0.404721  0.025646      0.089102  -0.041331   0.015925   \n",
       "Bathroom       0.321788  0.037130      0.084462   0.113957  -0.070594   \n",
       "Car            1.000000  0.026759      0.068389   0.080473  -0.001961   \n",
       "Landsize       0.026759  1.000000      0.094659   0.008806   0.009695   \n",
       "BuildingArea   0.068389  0.094659      1.000000   0.005178   0.031799   \n",
       "YearBuilt      0.080473  0.008806      0.005178   1.000000   0.046718   \n",
       "Lattitude     -0.001961  0.009695      0.031799   0.046718   1.000000   \n",
       "Longtitude     0.063304  0.010833     -0.017441  -0.000515  -0.357634   \n",
       "Propertycount -0.024255 -0.006854     -0.020736   0.004421   0.047086   \n",
       "\n",
       "               Longtitude  Propertycount  \n",
       "Rooms            0.100771      -0.081530  \n",
       "Price            0.203656      -0.042153  \n",
       "Distance         0.239425      -0.054910  \n",
       "Postcode         0.445357       0.062304  \n",
       "Bedroom2         0.102238      -0.081350  \n",
       "Bathroom         0.118971      -0.052201  \n",
       "Car              0.063304      -0.024255  \n",
       "Landsize         0.010833      -0.006854  \n",
       "BuildingArea    -0.017441      -0.020736  \n",
       "YearBuilt       -0.000515       0.004421  \n",
       "Lattitude       -0.357634       0.047086  \n",
       "Longtitude       1.000000       0.065988  \n",
       "Propertycount    0.065988       1.000000  "
      ]
     },
     "execution_count": 76,
     "metadata": {},
     "output_type": "execute_result"
    }
   ],
   "source": [
    "# corr() is predefined function which gives us the correlation between numeric datatypes. \n",
    "# if correlation is nearer to 1 or more than 0.5 we call it high positive correlation , and same can be said for negative correlation.\n",
    "mlb_house.corr()"
   ]
  },
  {
   "cell_type": "code",
   "execution_count": 77,
   "id": "44052721",
   "metadata": {},
   "outputs": [
    {
     "data": {
      "image/png": "[encoded data removed]",
      "text/plain": [
       "<Figure size 936x720 with 2 Axes>"
      ]
     },
     "metadata": {
      "needs_background": "light"
     },
     "output_type": "display_data"
    }
   ],
   "source": [
    "plt.figure(figsize=(13, 10))\n",
    "sns.heatmap(mlb_house.corr(),cmap = \"YlGnBu\", annot= True)\n",
    "plt.show()"
   ]
  },
  {
   "cell_type": "code",
   "execution_count": 79,
   "id": "fa0fedea",
   "metadata": {},
   "outputs": [],
   "source": [
    " # here we can see that \"bedroom2\" and 'rooms' are highly positive correlated with each other so we can just any one of them."
   ]
  },
  {
   "cell_type": "code",
   "execution_count": 78,
   "id": "659accfd",
   "metadata": {},
   "outputs": [
    {
     "data": {
      "text/html": [
       "<div>\n",
       "<style scoped>\n",
       "    .dataframe tbody tr th:only-of-type {\n",
       "        vertical-align: middle;\n",
       "    }\n",
       "\n",
       "    .dataframe tbody tr th {\n",
       "        vertical-align: top;\n",
       "    }\n",
       "\n",
       "    .dataframe thead th {\n",
       "        text-align: right;\n",
       "    }\n",
       "</style>\n",
       "<table border=\"1\" class=\"dataframe\">\n",
       "  <thead>\n",
       "    <tr style=\"text-align: right;\">\n",
       "      <th></th>\n",
       "      <th>Suburb</th>\n",
       "      <th>Address</th>\n",
       "      <th>Rooms</th>\n",
       "      <th>Type</th>\n",
       "      <th>Price</th>\n",
       "      <th>Method</th>\n",
       "      <th>SellerG</th>\n",
       "      <th>Date</th>\n",
       "      <th>Distance</th>\n",
       "      <th>Postcode</th>\n",
       "      <th>Bathroom</th>\n",
       "      <th>Car</th>\n",
       "      <th>Landsize</th>\n",
       "      <th>BuildingArea</th>\n",
       "      <th>YearBuilt</th>\n",
       "      <th>CouncilArea</th>\n",
       "      <th>Lattitude</th>\n",
       "      <th>Longtitude</th>\n",
       "      <th>Regionname</th>\n",
       "      <th>Propertycount</th>\n",
       "    </tr>\n",
       "  </thead>\n",
       "  <tbody>\n",
       "    <tr>\n",
       "      <th>0</th>\n",
       "      <td>Abbotsford</td>\n",
       "      <td>85 Turner St</td>\n",
       "      <td>2</td>\n",
       "      <td>h</td>\n",
       "      <td>1480000.0</td>\n",
       "      <td>S</td>\n",
       "      <td>Biggin</td>\n",
       "      <td>3/12/2016</td>\n",
       "      <td>2.5</td>\n",
       "      <td>3067.0</td>\n",
       "      <td>1.0</td>\n",
       "      <td>1.0</td>\n",
       "      <td>202.0</td>\n",
       "      <td>151.96765</td>\n",
       "      <td>1970.0</td>\n",
       "      <td>Yarra</td>\n",
       "      <td>-37.79960</td>\n",
       "      <td>144.99840</td>\n",
       "      <td>Northern Metropolitan</td>\n",
       "      <td>4019.0</td>\n",
       "    </tr>\n",
       "    <tr>\n",
       "      <th>1</th>\n",
       "      <td>Abbotsford</td>\n",
       "      <td>25 Bloomburg St</td>\n",
       "      <td>2</td>\n",
       "      <td>h</td>\n",
       "      <td>1035000.0</td>\n",
       "      <td>S</td>\n",
       "      <td>Biggin</td>\n",
       "      <td>4/02/2016</td>\n",
       "      <td>2.5</td>\n",
       "      <td>3067.0</td>\n",
       "      <td>1.0</td>\n",
       "      <td>0.0</td>\n",
       "      <td>156.0</td>\n",
       "      <td>79.00000</td>\n",
       "      <td>1900.0</td>\n",
       "      <td>Yarra</td>\n",
       "      <td>-37.80790</td>\n",
       "      <td>144.99340</td>\n",
       "      <td>Northern Metropolitan</td>\n",
       "      <td>4019.0</td>\n",
       "    </tr>\n",
       "    <tr>\n",
       "      <th>2</th>\n",
       "      <td>Abbotsford</td>\n",
       "      <td>5 Charles St</td>\n",
       "      <td>3</td>\n",
       "      <td>h</td>\n",
       "      <td>1465000.0</td>\n",
       "      <td>SP</td>\n",
       "      <td>Biggin</td>\n",
       "      <td>4/03/2017</td>\n",
       "      <td>2.5</td>\n",
       "      <td>3067.0</td>\n",
       "      <td>2.0</td>\n",
       "      <td>0.0</td>\n",
       "      <td>134.0</td>\n",
       "      <td>150.00000</td>\n",
       "      <td>1900.0</td>\n",
       "      <td>Yarra</td>\n",
       "      <td>-37.80930</td>\n",
       "      <td>144.99440</td>\n",
       "      <td>Northern Metropolitan</td>\n",
       "      <td>4019.0</td>\n",
       "    </tr>\n",
       "    <tr>\n",
       "      <th>3</th>\n",
       "      <td>Abbotsford</td>\n",
       "      <td>40 Federation La</td>\n",
       "      <td>3</td>\n",
       "      <td>h</td>\n",
       "      <td>850000.0</td>\n",
       "      <td>PI</td>\n",
       "      <td>Biggin</td>\n",
       "      <td>4/03/2017</td>\n",
       "      <td>2.5</td>\n",
       "      <td>3067.0</td>\n",
       "      <td>2.0</td>\n",
       "      <td>1.0</td>\n",
       "      <td>94.0</td>\n",
       "      <td>151.96765</td>\n",
       "      <td>1970.0</td>\n",
       "      <td>Yarra</td>\n",
       "      <td>-37.79690</td>\n",
       "      <td>144.99690</td>\n",
       "      <td>Northern Metropolitan</td>\n",
       "      <td>4019.0</td>\n",
       "    </tr>\n",
       "    <tr>\n",
       "      <th>4</th>\n",
       "      <td>Abbotsford</td>\n",
       "      <td>55a Park St</td>\n",
       "      <td>4</td>\n",
       "      <td>h</td>\n",
       "      <td>1600000.0</td>\n",
       "      <td>VB</td>\n",
       "      <td>Nelson</td>\n",
       "      <td>4/06/2016</td>\n",
       "      <td>2.5</td>\n",
       "      <td>3067.0</td>\n",
       "      <td>1.0</td>\n",
       "      <td>2.0</td>\n",
       "      <td>120.0</td>\n",
       "      <td>142.00000</td>\n",
       "      <td>2014.0</td>\n",
       "      <td>Yarra</td>\n",
       "      <td>-37.80720</td>\n",
       "      <td>144.99410</td>\n",
       "      <td>Northern Metropolitan</td>\n",
       "      <td>4019.0</td>\n",
       "    </tr>\n",
       "    <tr>\n",
       "      <th>...</th>\n",
       "      <td>...</td>\n",
       "      <td>...</td>\n",
       "      <td>...</td>\n",
       "      <td>...</td>\n",
       "      <td>...</td>\n",
       "      <td>...</td>\n",
       "      <td>...</td>\n",
       "      <td>...</td>\n",
       "      <td>...</td>\n",
       "      <td>...</td>\n",
       "      <td>...</td>\n",
       "      <td>...</td>\n",
       "      <td>...</td>\n",
       "      <td>...</td>\n",
       "      <td>...</td>\n",
       "      <td>...</td>\n",
       "      <td>...</td>\n",
       "      <td>...</td>\n",
       "      <td>...</td>\n",
       "      <td>...</td>\n",
       "    </tr>\n",
       "    <tr>\n",
       "      <th>13575</th>\n",
       "      <td>Wheelers Hill</td>\n",
       "      <td>12 Strada Cr</td>\n",
       "      <td>4</td>\n",
       "      <td>h</td>\n",
       "      <td>1245000.0</td>\n",
       "      <td>S</td>\n",
       "      <td>Barry</td>\n",
       "      <td>26/08/2017</td>\n",
       "      <td>16.7</td>\n",
       "      <td>3150.0</td>\n",
       "      <td>2.0</td>\n",
       "      <td>2.0</td>\n",
       "      <td>652.0</td>\n",
       "      <td>151.96765</td>\n",
       "      <td>1981.0</td>\n",
       "      <td>Moreland</td>\n",
       "      <td>-37.90562</td>\n",
       "      <td>145.16761</td>\n",
       "      <td>South-Eastern Metropolitan</td>\n",
       "      <td>7392.0</td>\n",
       "    </tr>\n",
       "    <tr>\n",
       "      <th>13576</th>\n",
       "      <td>Williamstown</td>\n",
       "      <td>77 Merrett Dr</td>\n",
       "      <td>3</td>\n",
       "      <td>h</td>\n",
       "      <td>1031000.0</td>\n",
       "      <td>SP</td>\n",
       "      <td>Williams</td>\n",
       "      <td>26/08/2017</td>\n",
       "      <td>6.8</td>\n",
       "      <td>3016.0</td>\n",
       "      <td>2.0</td>\n",
       "      <td>2.0</td>\n",
       "      <td>333.0</td>\n",
       "      <td>133.00000</td>\n",
       "      <td>1995.0</td>\n",
       "      <td>Moreland</td>\n",
       "      <td>-37.85927</td>\n",
       "      <td>144.87904</td>\n",
       "      <td>Western Metropolitan</td>\n",
       "      <td>6380.0</td>\n",
       "    </tr>\n",
       "    <tr>\n",
       "      <th>13577</th>\n",
       "      <td>Williamstown</td>\n",
       "      <td>83 Power St</td>\n",
       "      <td>3</td>\n",
       "      <td>h</td>\n",
       "      <td>1170000.0</td>\n",
       "      <td>S</td>\n",
       "      <td>Raine</td>\n",
       "      <td>26/08/2017</td>\n",
       "      <td>6.8</td>\n",
       "      <td>3016.0</td>\n",
       "      <td>2.0</td>\n",
       "      <td>4.0</td>\n",
       "      <td>436.0</td>\n",
       "      <td>151.96765</td>\n",
       "      <td>1997.0</td>\n",
       "      <td>Moreland</td>\n",
       "      <td>-37.85274</td>\n",
       "      <td>144.88738</td>\n",
       "      <td>Western Metropolitan</td>\n",
       "      <td>6380.0</td>\n",
       "    </tr>\n",
       "    <tr>\n",
       "      <th>13578</th>\n",
       "      <td>Williamstown</td>\n",
       "      <td>96 Verdon St</td>\n",
       "      <td>4</td>\n",
       "      <td>h</td>\n",
       "      <td>2500000.0</td>\n",
       "      <td>PI</td>\n",
       "      <td>Sweeney</td>\n",
       "      <td>26/08/2017</td>\n",
       "      <td>6.8</td>\n",
       "      <td>3016.0</td>\n",
       "      <td>1.0</td>\n",
       "      <td>5.0</td>\n",
       "      <td>866.0</td>\n",
       "      <td>157.00000</td>\n",
       "      <td>1920.0</td>\n",
       "      <td>Moreland</td>\n",
       "      <td>-37.85908</td>\n",
       "      <td>144.89299</td>\n",
       "      <td>Western Metropolitan</td>\n",
       "      <td>6380.0</td>\n",
       "    </tr>\n",
       "    <tr>\n",
       "      <th>13579</th>\n",
       "      <td>Yarraville</td>\n",
       "      <td>6 Agnes St</td>\n",
       "      <td>4</td>\n",
       "      <td>h</td>\n",
       "      <td>1285000.0</td>\n",
       "      <td>SP</td>\n",
       "      <td>Village</td>\n",
       "      <td>26/08/2017</td>\n",
       "      <td>6.3</td>\n",
       "      <td>3013.0</td>\n",
       "      <td>1.0</td>\n",
       "      <td>1.0</td>\n",
       "      <td>362.0</td>\n",
       "      <td>112.00000</td>\n",
       "      <td>1920.0</td>\n",
       "      <td>Moreland</td>\n",
       "      <td>-37.81188</td>\n",
       "      <td>144.88449</td>\n",
       "      <td>Western Metropolitan</td>\n",
       "      <td>6543.0</td>\n",
       "    </tr>\n",
       "  </tbody>\n",
       "</table>\n",
       "<p>13580 rows × 20 columns</p>\n",
       "</div>"
      ],
      "text/plain": [
       "              Suburb           Address  Rooms Type      Price Method  \\\n",
       "0         Abbotsford      85 Turner St      2    h  1480000.0      S   \n",
       "1         Abbotsford   25 Bloomburg St      2    h  1035000.0      S   \n",
       "2         Abbotsford      5 Charles St      3    h  1465000.0     SP   \n",
       "3         Abbotsford  40 Federation La      3    h   850000.0     PI   \n",
       "4         Abbotsford       55a Park St      4    h  1600000.0     VB   \n",
       "...              ...               ...    ...  ...        ...    ...   \n",
       "13575  Wheelers Hill      12 Strada Cr      4    h  1245000.0      S   \n",
       "13576   Williamstown     77 Merrett Dr      3    h  1031000.0     SP   \n",
       "13577   Williamstown       83 Power St      3    h  1170000.0      S   \n",
       "13578   Williamstown      96 Verdon St      4    h  2500000.0     PI   \n",
       "13579     Yarraville        6 Agnes St      4    h  1285000.0     SP   \n",
       "\n",
       "        SellerG        Date  Distance  Postcode  Bathroom  Car  Landsize  \\\n",
       "0        Biggin   3/12/2016       2.5    3067.0       1.0  1.0     202.0   \n",
       "1        Biggin   4/02/2016       2.5    3067.0       1.0  0.0     156.0   \n",
       "2        Biggin   4/03/2017       2.5    3067.0       2.0  0.0     134.0   \n",
       "3        Biggin   4/03/2017       2.5    3067.0       2.0  1.0      94.0   \n",
       "4        Nelson   4/06/2016       2.5    3067.0       1.0  2.0     120.0   \n",
       "...         ...         ...       ...       ...       ...  ...       ...   \n",
       "13575     Barry  26/08/2017      16.7    3150.0       2.0  2.0     652.0   \n",
       "13576  Williams  26/08/2017       6.8    3016.0       2.0  2.0     333.0   \n",
       "13577     Raine  26/08/2017       6.8    3016.0       2.0  4.0     436.0   \n",
       "13578   Sweeney  26/08/2017       6.8    3016.0       1.0  5.0     866.0   \n",
       "13579   Village  26/08/2017       6.3    3013.0       1.0  1.0     362.0   \n",
       "\n",
       "       BuildingArea  YearBuilt CouncilArea  Lattitude  Longtitude  \\\n",
       "0         151.96765     1970.0       Yarra  -37.79960   144.99840   \n",
       "1          79.00000     1900.0       Yarra  -37.80790   144.99340   \n",
       "2         150.00000     1900.0       Yarra  -37.80930   144.99440   \n",
       "3         151.96765     1970.0       Yarra  -37.79690   144.99690   \n",
       "4         142.00000     2014.0       Yarra  -37.80720   144.99410   \n",
       "...             ...        ...         ...        ...         ...   \n",
       "13575     151.96765     1981.0    Moreland  -37.90562   145.16761   \n",
       "13576     133.00000     1995.0    Moreland  -37.85927   144.87904   \n",
       "13577     151.96765     1997.0    Moreland  -37.85274   144.88738   \n",
       "13578     157.00000     1920.0    Moreland  -37.85908   144.89299   \n",
       "13579     112.00000     1920.0    Moreland  -37.81188   144.88449   \n",
       "\n",
       "                       Regionname  Propertycount  \n",
       "0           Northern Metropolitan         4019.0  \n",
       "1           Northern Metropolitan         4019.0  \n",
       "2           Northern Metropolitan         4019.0  \n",
       "3           Northern Metropolitan         4019.0  \n",
       "4           Northern Metropolitan         4019.0  \n",
       "...                           ...            ...  \n",
       "13575  South-Eastern Metropolitan         7392.0  \n",
       "13576        Western Metropolitan         6380.0  \n",
       "13577        Western Metropolitan         6380.0  \n",
       "13578        Western Metropolitan         6380.0  \n",
       "13579        Western Metropolitan         6543.0  \n",
       "\n",
       "[13580 rows x 20 columns]"
      ]
     },
     "execution_count": 78,
     "metadata": {},
     "output_type": "execute_result"
    }
   ],
   "source": [
    "clean_data = mlb_house.copy() \n",
    "mlb_h = clean_data.drop(['Bedroom2'], axis = 1) \n",
    "\n",
    "mlb_h"
   ]
  },
  {
   "cell_type": "code",
   "execution_count": 29,
   "id": "5d0fa46b",
   "metadata": {},
   "outputs": [],
   "source": [
    "# now for performing feature selection i am separating our target column which is \"price\" and rest of the numeric columns."
   ]
  },
  {
   "cell_type": "code",
   "execution_count": 79,
   "id": "31a5c36c",
   "metadata": {},
   "outputs": [],
   "source": [
    "test = mlb_h['Price']   # separating the target column"
   ]
  },
  {
   "cell_type": "code",
   "execution_count": 80,
   "id": "928bbded",
   "metadata": {},
   "outputs": [
    {
     "data": {
      "text/plain": [
       "0        1480000.0\n",
       "1        1035000.0\n",
       "2        1465000.0\n",
       "3         850000.0\n",
       "4        1600000.0\n",
       "           ...    \n",
       "13575    1245000.0\n",
       "13576    1031000.0\n",
       "13577    1170000.0\n",
       "13578    2500000.0\n",
       "13579    1285000.0\n",
       "Name: Price, Length: 13580, dtype: float64"
      ]
     },
     "execution_count": 80,
     "metadata": {},
     "output_type": "execute_result"
    }
   ],
   "source": [
    "test"
   ]
  },
  {
   "cell_type": "code",
   "execution_count": 81,
   "id": "9ccdbef6",
   "metadata": {},
   "outputs": [],
   "source": [
    "mlb_h_numeric = pd.DataFrame(clean_data , columns=['Rooms','Distance','Postcode','Bedroom2','Bathroom','Car','Landsize','BuildingArea','YearBuilt','Lattitude','Longtitude','Propertycount'])\n",
    "# here from copy of data that we have created earlier we assigned all the numeric value to the mlb_h_numeric instance "
   ]
  },
  {
   "cell_type": "code",
   "execution_count": 82,
   "id": "d647fdec",
   "metadata": {},
   "outputs": [
    {
     "data": {
      "text/html": [
       "<div>\n",
       "<style scoped>\n",
       "    .dataframe tbody tr th:only-of-type {\n",
       "        vertical-align: middle;\n",
       "    }\n",
       "\n",
       "    .dataframe tbody tr th {\n",
       "        vertical-align: top;\n",
       "    }\n",
       "\n",
       "    .dataframe thead th {\n",
       "        text-align: right;\n",
       "    }\n",
       "</style>\n",
       "<table border=\"1\" class=\"dataframe\">\n",
       "  <thead>\n",
       "    <tr style=\"text-align: right;\">\n",
       "      <th></th>\n",
       "      <th>Rooms</th>\n",
       "      <th>Distance</th>\n",
       "      <th>Postcode</th>\n",
       "      <th>Bedroom2</th>\n",
       "      <th>Bathroom</th>\n",
       "      <th>Car</th>\n",
       "      <th>Landsize</th>\n",
       "      <th>BuildingArea</th>\n",
       "      <th>YearBuilt</th>\n",
       "      <th>Lattitude</th>\n",
       "      <th>Longtitude</th>\n",
       "      <th>Propertycount</th>\n",
       "    </tr>\n",
       "  </thead>\n",
       "  <tbody>\n",
       "    <tr>\n",
       "      <th>0</th>\n",
       "      <td>2</td>\n",
       "      <td>2.5</td>\n",
       "      <td>3067.0</td>\n",
       "      <td>2.0</td>\n",
       "      <td>1.0</td>\n",
       "      <td>1.0</td>\n",
       "      <td>202.0</td>\n",
       "      <td>151.96765</td>\n",
       "      <td>1970.0</td>\n",
       "      <td>-37.79960</td>\n",
       "      <td>144.99840</td>\n",
       "      <td>4019.0</td>\n",
       "    </tr>\n",
       "    <tr>\n",
       "      <th>1</th>\n",
       "      <td>2</td>\n",
       "      <td>2.5</td>\n",
       "      <td>3067.0</td>\n",
       "      <td>2.0</td>\n",
       "      <td>1.0</td>\n",
       "      <td>0.0</td>\n",
       "      <td>156.0</td>\n",
       "      <td>79.00000</td>\n",
       "      <td>1900.0</td>\n",
       "      <td>-37.80790</td>\n",
       "      <td>144.99340</td>\n",
       "      <td>4019.0</td>\n",
       "    </tr>\n",
       "    <tr>\n",
       "      <th>2</th>\n",
       "      <td>3</td>\n",
       "      <td>2.5</td>\n",
       "      <td>3067.0</td>\n",
       "      <td>3.0</td>\n",
       "      <td>2.0</td>\n",
       "      <td>0.0</td>\n",
       "      <td>134.0</td>\n",
       "      <td>150.00000</td>\n",
       "      <td>1900.0</td>\n",
       "      <td>-37.80930</td>\n",
       "      <td>144.99440</td>\n",
       "      <td>4019.0</td>\n",
       "    </tr>\n",
       "    <tr>\n",
       "      <th>3</th>\n",
       "      <td>3</td>\n",
       "      <td>2.5</td>\n",
       "      <td>3067.0</td>\n",
       "      <td>3.0</td>\n",
       "      <td>2.0</td>\n",
       "      <td>1.0</td>\n",
       "      <td>94.0</td>\n",
       "      <td>151.96765</td>\n",
       "      <td>1970.0</td>\n",
       "      <td>-37.79690</td>\n",
       "      <td>144.99690</td>\n",
       "      <td>4019.0</td>\n",
       "    </tr>\n",
       "    <tr>\n",
       "      <th>4</th>\n",
       "      <td>4</td>\n",
       "      <td>2.5</td>\n",
       "      <td>3067.0</td>\n",
       "      <td>3.0</td>\n",
       "      <td>1.0</td>\n",
       "      <td>2.0</td>\n",
       "      <td>120.0</td>\n",
       "      <td>142.00000</td>\n",
       "      <td>2014.0</td>\n",
       "      <td>-37.80720</td>\n",
       "      <td>144.99410</td>\n",
       "      <td>4019.0</td>\n",
       "    </tr>\n",
       "    <tr>\n",
       "      <th>...</th>\n",
       "      <td>...</td>\n",
       "      <td>...</td>\n",
       "      <td>...</td>\n",
       "      <td>...</td>\n",
       "      <td>...</td>\n",
       "      <td>...</td>\n",
       "      <td>...</td>\n",
       "      <td>...</td>\n",
       "      <td>...</td>\n",
       "      <td>...</td>\n",
       "      <td>...</td>\n",
       "      <td>...</td>\n",
       "    </tr>\n",
       "    <tr>\n",
       "      <th>13575</th>\n",
       "      <td>4</td>\n",
       "      <td>16.7</td>\n",
       "      <td>3150.0</td>\n",
       "      <td>4.0</td>\n",
       "      <td>2.0</td>\n",
       "      <td>2.0</td>\n",
       "      <td>652.0</td>\n",
       "      <td>151.96765</td>\n",
       "      <td>1981.0</td>\n",
       "      <td>-37.90562</td>\n",
       "      <td>145.16761</td>\n",
       "      <td>7392.0</td>\n",
       "    </tr>\n",
       "    <tr>\n",
       "      <th>13576</th>\n",
       "      <td>3</td>\n",
       "      <td>6.8</td>\n",
       "      <td>3016.0</td>\n",
       "      <td>3.0</td>\n",
       "      <td>2.0</td>\n",
       "      <td>2.0</td>\n",
       "      <td>333.0</td>\n",
       "      <td>133.00000</td>\n",
       "      <td>1995.0</td>\n",
       "      <td>-37.85927</td>\n",
       "      <td>144.87904</td>\n",
       "      <td>6380.0</td>\n",
       "    </tr>\n",
       "    <tr>\n",
       "      <th>13577</th>\n",
       "      <td>3</td>\n",
       "      <td>6.8</td>\n",
       "      <td>3016.0</td>\n",
       "      <td>3.0</td>\n",
       "      <td>2.0</td>\n",
       "      <td>4.0</td>\n",
       "      <td>436.0</td>\n",
       "      <td>151.96765</td>\n",
       "      <td>1997.0</td>\n",
       "      <td>-37.85274</td>\n",
       "      <td>144.88738</td>\n",
       "      <td>6380.0</td>\n",
       "    </tr>\n",
       "    <tr>\n",
       "      <th>13578</th>\n",
       "      <td>4</td>\n",
       "      <td>6.8</td>\n",
       "      <td>3016.0</td>\n",
       "      <td>4.0</td>\n",
       "      <td>1.0</td>\n",
       "      <td>5.0</td>\n",
       "      <td>866.0</td>\n",
       "      <td>157.00000</td>\n",
       "      <td>1920.0</td>\n",
       "      <td>-37.85908</td>\n",
       "      <td>144.89299</td>\n",
       "      <td>6380.0</td>\n",
       "    </tr>\n",
       "    <tr>\n",
       "      <th>13579</th>\n",
       "      <td>4</td>\n",
       "      <td>6.3</td>\n",
       "      <td>3013.0</td>\n",
       "      <td>4.0</td>\n",
       "      <td>1.0</td>\n",
       "      <td>1.0</td>\n",
       "      <td>362.0</td>\n",
       "      <td>112.00000</td>\n",
       "      <td>1920.0</td>\n",
       "      <td>-37.81188</td>\n",
       "      <td>144.88449</td>\n",
       "      <td>6543.0</td>\n",
       "    </tr>\n",
       "  </tbody>\n",
       "</table>\n",
       "<p>13580 rows × 12 columns</p>\n",
       "</div>"
      ],
      "text/plain": [
       "       Rooms  Distance  Postcode  Bedroom2  Bathroom  Car  Landsize  \\\n",
       "0          2       2.5    3067.0       2.0       1.0  1.0     202.0   \n",
       "1          2       2.5    3067.0       2.0       1.0  0.0     156.0   \n",
       "2          3       2.5    3067.0       3.0       2.0  0.0     134.0   \n",
       "3          3       2.5    3067.0       3.0       2.0  1.0      94.0   \n",
       "4          4       2.5    3067.0       3.0       1.0  2.0     120.0   \n",
       "...      ...       ...       ...       ...       ...  ...       ...   \n",
       "13575      4      16.7    3150.0       4.0       2.0  2.0     652.0   \n",
       "13576      3       6.8    3016.0       3.0       2.0  2.0     333.0   \n",
       "13577      3       6.8    3016.0       3.0       2.0  4.0     436.0   \n",
       "13578      4       6.8    3016.0       4.0       1.0  5.0     866.0   \n",
       "13579      4       6.3    3013.0       4.0       1.0  1.0     362.0   \n",
       "\n",
       "       BuildingArea  YearBuilt  Lattitude  Longtitude  Propertycount  \n",
       "0         151.96765     1970.0  -37.79960   144.99840         4019.0  \n",
       "1          79.00000     1900.0  -37.80790   144.99340         4019.0  \n",
       "2         150.00000     1900.0  -37.80930   144.99440         4019.0  \n",
       "3         151.96765     1970.0  -37.79690   144.99690         4019.0  \n",
       "4         142.00000     2014.0  -37.80720   144.99410         4019.0  \n",
       "...             ...        ...        ...         ...            ...  \n",
       "13575     151.96765     1981.0  -37.90562   145.16761         7392.0  \n",
       "13576     133.00000     1995.0  -37.85927   144.87904         6380.0  \n",
       "13577     151.96765     1997.0  -37.85274   144.88738         6380.0  \n",
       "13578     157.00000     1920.0  -37.85908   144.89299         6380.0  \n",
       "13579     112.00000     1920.0  -37.81188   144.88449         6543.0  \n",
       "\n",
       "[13580 rows x 12 columns]"
      ]
     },
     "execution_count": 82,
     "metadata": {},
     "output_type": "execute_result"
    }
   ],
   "source": [
    "mlb_h_numeric "
   ]
  },
  {
   "cell_type": "code",
   "execution_count": 83,
   "id": "b8f04137",
   "metadata": {},
   "outputs": [],
   "source": [
    "# i have agian used the scaling method here because \n",
    "# in Lattitude column we had negative values and we won't be able to perform task.\n",
    "train = sklearn.preprocessing.MinMaxScaler().fit_transform(mlb_h_numeric) "
   ]
  },
  {
   "cell_type": "code",
   "execution_count": 84,
   "id": "d69e5046",
   "metadata": {},
   "outputs": [],
   "source": [
    "train = pd.DataFrame(train, columns=['Rooms', 'Distance', 'Postcode', 'Bedroom2', 'Bathroom', 'Car', 'Landsize', 'BuildingArea', 'YearBuilt', 'Lattitude', 'Longtitude', 'Propertycount'])"
   ]
  },
  {
   "cell_type": "code",
   "execution_count": 86,
   "id": "f3aa447c",
   "metadata": {},
   "outputs": [
    {
     "data": {
      "text/html": [
       "<div>\n",
       "<style scoped>\n",
       "    .dataframe tbody tr th:only-of-type {\n",
       "        vertical-align: middle;\n",
       "    }\n",
       "\n",
       "    .dataframe tbody tr th {\n",
       "        vertical-align: top;\n",
       "    }\n",
       "\n",
       "    .dataframe thead th {\n",
       "        text-align: right;\n",
       "    }\n",
       "</style>\n",
       "<table border=\"1\" class=\"dataframe\">\n",
       "  <thead>\n",
       "    <tr style=\"text-align: right;\">\n",
       "      <th></th>\n",
       "      <th>Rooms</th>\n",
       "      <th>Distance</th>\n",
       "      <th>Postcode</th>\n",
       "      <th>Bedroom2</th>\n",
       "      <th>Bathroom</th>\n",
       "      <th>Car</th>\n",
       "      <th>Landsize</th>\n",
       "      <th>BuildingArea</th>\n",
       "      <th>YearBuilt</th>\n",
       "      <th>Lattitude</th>\n",
       "      <th>Longtitude</th>\n",
       "      <th>Propertycount</th>\n",
       "    </tr>\n",
       "  </thead>\n",
       "  <tbody>\n",
       "    <tr>\n",
       "      <th>0</th>\n",
       "      <td>0.111111</td>\n",
       "      <td>0.051975</td>\n",
       "      <td>0.068577</td>\n",
       "      <td>0.10</td>\n",
       "      <td>0.125</td>\n",
       "      <td>0.1</td>\n",
       "      <td>0.000466</td>\n",
       "      <td>0.003414</td>\n",
       "      <td>0.941606</td>\n",
       "      <td>0.494755</td>\n",
       "      <td>0.517651</td>\n",
       "      <td>0.176160</td>\n",
       "    </tr>\n",
       "    <tr>\n",
       "      <th>1</th>\n",
       "      <td>0.111111</td>\n",
       "      <td>0.051975</td>\n",
       "      <td>0.068577</td>\n",
       "      <td>0.10</td>\n",
       "      <td>0.125</td>\n",
       "      <td>0.0</td>\n",
       "      <td>0.000360</td>\n",
       "      <td>0.001775</td>\n",
       "      <td>0.856448</td>\n",
       "      <td>0.484031</td>\n",
       "      <td>0.513083</td>\n",
       "      <td>0.176160</td>\n",
       "    </tr>\n",
       "    <tr>\n",
       "      <th>2</th>\n",
       "      <td>0.222222</td>\n",
       "      <td>0.051975</td>\n",
       "      <td>0.068577</td>\n",
       "      <td>0.15</td>\n",
       "      <td>0.250</td>\n",
       "      <td>0.0</td>\n",
       "      <td>0.000309</td>\n",
       "      <td>0.003370</td>\n",
       "      <td>0.856448</td>\n",
       "      <td>0.482223</td>\n",
       "      <td>0.513997</td>\n",
       "      <td>0.176160</td>\n",
       "    </tr>\n",
       "    <tr>\n",
       "      <th>3</th>\n",
       "      <td>0.222222</td>\n",
       "      <td>0.051975</td>\n",
       "      <td>0.068577</td>\n",
       "      <td>0.15</td>\n",
       "      <td>0.250</td>\n",
       "      <td>0.1</td>\n",
       "      <td>0.000217</td>\n",
       "      <td>0.003414</td>\n",
       "      <td>0.941606</td>\n",
       "      <td>0.498243</td>\n",
       "      <td>0.516281</td>\n",
       "      <td>0.176160</td>\n",
       "    </tr>\n",
       "    <tr>\n",
       "      <th>4</th>\n",
       "      <td>0.333333</td>\n",
       "      <td>0.051975</td>\n",
       "      <td>0.068577</td>\n",
       "      <td>0.15</td>\n",
       "      <td>0.125</td>\n",
       "      <td>0.2</td>\n",
       "      <td>0.000277</td>\n",
       "      <td>0.003190</td>\n",
       "      <td>0.995134</td>\n",
       "      <td>0.484936</td>\n",
       "      <td>0.513723</td>\n",
       "      <td>0.176160</td>\n",
       "    </tr>\n",
       "    <tr>\n",
       "      <th>...</th>\n",
       "      <td>...</td>\n",
       "      <td>...</td>\n",
       "      <td>...</td>\n",
       "      <td>...</td>\n",
       "      <td>...</td>\n",
       "      <td>...</td>\n",
       "      <td>...</td>\n",
       "      <td>...</td>\n",
       "      <td>...</td>\n",
       "      <td>...</td>\n",
       "      <td>...</td>\n",
       "      <td>...</td>\n",
       "    </tr>\n",
       "    <tr>\n",
       "      <th>13575</th>\n",
       "      <td>0.333333</td>\n",
       "      <td>0.347193</td>\n",
       "      <td>0.153531</td>\n",
       "      <td>0.20</td>\n",
       "      <td>0.250</td>\n",
       "      <td>0.2</td>\n",
       "      <td>0.001506</td>\n",
       "      <td>0.003414</td>\n",
       "      <td>0.954988</td>\n",
       "      <td>0.357781</td>\n",
       "      <td>0.672246</td>\n",
       "      <td>0.333769</td>\n",
       "    </tr>\n",
       "    <tr>\n",
       "      <th>13576</th>\n",
       "      <td>0.222222</td>\n",
       "      <td>0.141372</td>\n",
       "      <td>0.016377</td>\n",
       "      <td>0.15</td>\n",
       "      <td>0.250</td>\n",
       "      <td>0.2</td>\n",
       "      <td>0.000769</td>\n",
       "      <td>0.002988</td>\n",
       "      <td>0.972019</td>\n",
       "      <td>0.417664</td>\n",
       "      <td>0.408601</td>\n",
       "      <td>0.286482</td>\n",
       "    </tr>\n",
       "    <tr>\n",
       "      <th>13577</th>\n",
       "      <td>0.222222</td>\n",
       "      <td>0.141372</td>\n",
       "      <td>0.016377</td>\n",
       "      <td>0.15</td>\n",
       "      <td>0.250</td>\n",
       "      <td>0.4</td>\n",
       "      <td>0.001007</td>\n",
       "      <td>0.003414</td>\n",
       "      <td>0.974453</td>\n",
       "      <td>0.426100</td>\n",
       "      <td>0.416221</td>\n",
       "      <td>0.286482</td>\n",
       "    </tr>\n",
       "    <tr>\n",
       "      <th>13578</th>\n",
       "      <td>0.333333</td>\n",
       "      <td>0.141372</td>\n",
       "      <td>0.016377</td>\n",
       "      <td>0.20</td>\n",
       "      <td>0.125</td>\n",
       "      <td>0.5</td>\n",
       "      <td>0.002000</td>\n",
       "      <td>0.003527</td>\n",
       "      <td>0.880779</td>\n",
       "      <td>0.417909</td>\n",
       "      <td>0.421346</td>\n",
       "      <td>0.286482</td>\n",
       "    </tr>\n",
       "    <tr>\n",
       "      <th>13579</th>\n",
       "      <td>0.333333</td>\n",
       "      <td>0.130977</td>\n",
       "      <td>0.013306</td>\n",
       "      <td>0.20</td>\n",
       "      <td>0.125</td>\n",
       "      <td>0.1</td>\n",
       "      <td>0.000836</td>\n",
       "      <td>0.002516</td>\n",
       "      <td>0.880779</td>\n",
       "      <td>0.478889</td>\n",
       "      <td>0.413580</td>\n",
       "      <td>0.294098</td>\n",
       "    </tr>\n",
       "  </tbody>\n",
       "</table>\n",
       "<p>13580 rows × 12 columns</p>\n",
       "</div>"
      ],
      "text/plain": [
       "          Rooms  Distance  Postcode  Bedroom2  Bathroom  Car  Landsize  \\\n",
       "0      0.111111  0.051975  0.068577      0.10     0.125  0.1  0.000466   \n",
       "1      0.111111  0.051975  0.068577      0.10     0.125  0.0  0.000360   \n",
       "2      0.222222  0.051975  0.068577      0.15     0.250  0.0  0.000309   \n",
       "3      0.222222  0.051975  0.068577      0.15     0.250  0.1  0.000217   \n",
       "4      0.333333  0.051975  0.068577      0.15     0.125  0.2  0.000277   \n",
       "...         ...       ...       ...       ...       ...  ...       ...   \n",
       "13575  0.333333  0.347193  0.153531      0.20     0.250  0.2  0.001506   \n",
       "13576  0.222222  0.141372  0.016377      0.15     0.250  0.2  0.000769   \n",
       "13577  0.222222  0.141372  0.016377      0.15     0.250  0.4  0.001007   \n",
       "13578  0.333333  0.141372  0.016377      0.20     0.125  0.5  0.002000   \n",
       "13579  0.333333  0.130977  0.013306      0.20     0.125  0.1  0.000836   \n",
       "\n",
       "       BuildingArea  YearBuilt  Lattitude  Longtitude  Propertycount  \n",
       "0          0.003414   0.941606   0.494755    0.517651       0.176160  \n",
       "1          0.001775   0.856448   0.484031    0.513083       0.176160  \n",
       "2          0.003370   0.856448   0.482223    0.513997       0.176160  \n",
       "3          0.003414   0.941606   0.498243    0.516281       0.176160  \n",
       "4          0.003190   0.995134   0.484936    0.513723       0.176160  \n",
       "...             ...        ...        ...         ...            ...  \n",
       "13575      0.003414   0.954988   0.357781    0.672246       0.333769  \n",
       "13576      0.002988   0.972019   0.417664    0.408601       0.286482  \n",
       "13577      0.003414   0.974453   0.426100    0.416221       0.286482  \n",
       "13578      0.003527   0.880779   0.417909    0.421346       0.286482  \n",
       "13579      0.002516   0.880779   0.478889    0.413580       0.294098  \n",
       "\n",
       "[13580 rows x 12 columns]"
      ]
     },
     "execution_count": 86,
     "metadata": {},
     "output_type": "execute_result"
    }
   ],
   "source": [
    "# after performing the scaling we can see the all the data are between o and 1.\n",
    "train"
   ]
  },
  {
   "cell_type": "code",
   "execution_count": 87,
   "id": "cde0d48a",
   "metadata": {},
   "outputs": [],
   "source": [
    "from scipy import stats \n",
    "from sklearn.ensemble import RandomForestClassifier \n",
    "from sklearn.feature_selection import SelectFpr, chi2, SelectKBest, SelectFwe, f_classif, SelectFdr  \n",
    " \n",
    "import matplotlib.pyplot as plt\n",
    "%matplotlib inline  "
   ]
  },
  {
   "cell_type": "markdown",
   "id": "0d760c6e",
   "metadata": {},
   "source": [
    "#### chi-square"
   ]
  },
  {
   "cell_type": "code",
   "execution_count": 89,
   "id": "422575a0",
   "metadata": {},
   "outputs": [
    {
     "data": {
      "text/plain": [
       "Index(['Rooms', 'Distance', 'Postcode', 'Bathroom', 'Propertycount'], dtype='object')"
      ]
     },
     "execution_count": 89,
     "metadata": {},
     "output_type": "execute_result"
    }
   ],
   "source": [
    "# for selecting best feature from our dataset \n",
    "# here using the chi square method.\n",
    "feat_slc = SelectKBest(score_func=chi2, k=5) \n",
    "new_data = feat_slc.fit_transform(train, test)\n",
    " \n",
    "mask = feat_slc.get_support()\n",
    "best_features = train.columns[mask]\n",
    "best_features "
   ]
  },
  {
   "cell_type": "code",
   "execution_count": null,
   "id": "b554cab6",
   "metadata": {},
   "outputs": [],
   "source": [
    "# if we want to determine which method would perform best on our dataset we have to make model and finding out \n",
    "# it's mean absolute error, mean squared error and root mean squared error \n",
    "# we can also know performance by r-square method but here i have not implemented that."
   ]
  },
  {
   "cell_type": "code",
   "execution_count": 91,
   "id": "5b889ee0",
   "metadata": {},
   "outputs": [],
   "source": [
    "train_new = train[best_features]  # here we only ise the best features for predicting the model cause those are the most relevent our data. "
   ]
  },
  {
   "cell_type": "code",
   "execution_count": 92,
   "id": "6e9a8742",
   "metadata": {},
   "outputs": [],
   "source": [
    "from sklearn.model_selection import train_test_split\n",
    "X_train, X_test, y_train, y_test = train_test_split(train_new, test, test_size=0.4, random_state=7) #spliting the dataset into 60-40 part"
   ]
  },
  {
   "cell_type": "code",
   "execution_count": 93,
   "id": "dcdca391",
   "metadata": {},
   "outputs": [
    {
     "data": {
      "text/plain": [
       "LinearRegression(n_jobs=5)"
      ]
     },
     "execution_count": 93,
     "metadata": {},
     "output_type": "execute_result"
    }
   ],
   "source": [
    "# making linear regression model\n",
    "from sklearn.linear_model import LinearRegression\n",
    "l_regression = LinearRegression( n_jobs=5 ) \n",
    "l_regression.fit(X_train, y_train)"
   ]
  },
  {
   "cell_type": "code",
   "execution_count": 95,
   "id": "201f97d5",
   "metadata": {},
   "outputs": [],
   "source": [
    "prediction = l_regression.predict(X_test) #predicting the model"
   ]
  },
  {
   "cell_type": "code",
   "execution_count": 96,
   "id": "d3152068",
   "metadata": {},
   "outputs": [
    {
     "name": "stdout",
     "output_type": "stream",
     "text": [
      "Mean Absolute Error: 327346.50667362066\n",
      "Mean Squared Error: 225352935042.14502\n",
      "Root Mean Squared Error: 474713.52944923006\n"
     ]
    }
   ],
   "source": [
    "from sklearn import metrics\n",
    "\n",
    "print('Mean Absolute Error:', metrics.mean_absolute_error(y_test, prediction))\n",
    "print('Mean Squared Error:', metrics.mean_squared_error(y_test, prediction))\n",
    "print('Root Mean Squared Error:', np.sqrt(metrics.mean_squared_error(y_test, prediction)))"
   ]
  },
  {
   "cell_type": "markdown",
   "id": "5a268ff1",
   "metadata": {},
   "source": [
    "\n"
   ]
  },
  {
   "cell_type": "markdown",
   "id": "1bdbcf45",
   "metadata": {},
   "source": [
    "\n",
    "\n"
   ]
  },
  {
   "cell_type": "code",
   "execution_count": 107,
   "id": "13819177",
   "metadata": {},
   "outputs": [],
   "source": [
    "# importing mutual inforamtion regression  \n",
    "from sklearn.feature_selection import mutual_info_regression\n"
   ]
  },
  {
   "cell_type": "code",
   "execution_count": 108,
   "id": "ef7b11cb",
   "metadata": {},
   "outputs": [],
   "source": [
    "# selecting the best features \n",
    "f_s = SelectKBest(score_func=mutual_info_regression, k=5)\n",
    "# learning relation from the training data\n",
    "f_s.fit(train, test)\n",
    "X_fs = f_s.transform(train)"
   ]
  },
  {
   "cell_type": "code",
   "execution_count": 110,
   "id": "fddd1907",
   "metadata": {},
   "outputs": [
    {
     "data": {
      "text/html": [
       "<div>\n",
       "<style scoped>\n",
       "    .dataframe tbody tr th:only-of-type {\n",
       "        vertical-align: middle;\n",
       "    }\n",
       "\n",
       "    .dataframe tbody tr th {\n",
       "        vertical-align: top;\n",
       "    }\n",
       "\n",
       "    .dataframe thead th {\n",
       "        text-align: right;\n",
       "    }\n",
       "</style>\n",
       "<table border=\"1\" class=\"dataframe\">\n",
       "  <thead>\n",
       "    <tr style=\"text-align: right;\">\n",
       "      <th></th>\n",
       "      <th>Importance</th>\n",
       "    </tr>\n",
       "  </thead>\n",
       "  <tbody>\n",
       "    <tr>\n",
       "      <th>Rooms</th>\n",
       "      <td>0.219545</td>\n",
       "    </tr>\n",
       "    <tr>\n",
       "      <th>Distance</th>\n",
       "      <td>0.206130</td>\n",
       "    </tr>\n",
       "    <tr>\n",
       "      <th>Postcode</th>\n",
       "      <td>0.318777</td>\n",
       "    </tr>\n",
       "    <tr>\n",
       "      <th>Bedroom2</th>\n",
       "      <td>0.201728</td>\n",
       "    </tr>\n",
       "    <tr>\n",
       "      <th>Bathroom</th>\n",
       "      <td>0.126692</td>\n",
       "    </tr>\n",
       "    <tr>\n",
       "      <th>Car</th>\n",
       "      <td>0.100321</td>\n",
       "    </tr>\n",
       "    <tr>\n",
       "      <th>Landsize</th>\n",
       "      <td>0.143117</td>\n",
       "    </tr>\n",
       "    <tr>\n",
       "      <th>BuildingArea</th>\n",
       "      <td>0.204167</td>\n",
       "    </tr>\n",
       "    <tr>\n",
       "      <th>YearBuilt</th>\n",
       "      <td>0.081543</td>\n",
       "    </tr>\n",
       "    <tr>\n",
       "      <th>Lattitude</th>\n",
       "      <td>0.147455</td>\n",
       "    </tr>\n",
       "    <tr>\n",
       "      <th>Longtitude</th>\n",
       "      <td>0.153926</td>\n",
       "    </tr>\n",
       "    <tr>\n",
       "      <th>Propertycount</th>\n",
       "      <td>0.205127</td>\n",
       "    </tr>\n",
       "  </tbody>\n",
       "</table>\n",
       "</div>"
      ],
      "text/plain": [
       "               Importance\n",
       "Rooms            0.219545\n",
       "Distance         0.206130\n",
       "Postcode         0.318777\n",
       "Bedroom2         0.201728\n",
       "Bathroom         0.126692\n",
       "Car              0.100321\n",
       "Landsize         0.143117\n",
       "BuildingArea     0.204167\n",
       "YearBuilt        0.081543\n",
       "Lattitude        0.147455\n",
       "Longtitude       0.153926\n",
       "Propertycount    0.205127"
      ]
     },
     "execution_count": 110,
     "metadata": {},
     "output_type": "execute_result"
    }
   ],
   "source": [
    "feat_importances_mi = pd.DataFrame(f_s.scores_, index = train.columns, columns=[\"Importance\"])\n",
    "\n",
    "feat_importances_mi\n",
    "# here we can see the the importance of the all the columns to our data"
   ]
  },
  {
   "cell_type": "code",
   "execution_count": 117,
   "id": "4d30348b",
   "metadata": {},
   "outputs": [
    {
     "name": "stdout",
     "output_type": "stream",
     "text": [
      "Feature 0: 0.219545\n",
      "Feature 1: 0.206130\n",
      "Feature 2: 0.318777\n",
      "Feature 3: 0.201728\n",
      "Feature 4: 0.126692\n",
      "Feature 5: 0.100321\n",
      "Feature 6: 0.143117\n",
      "Feature 7: 0.204167\n",
      "Feature 8: 0.081543\n",
      "Feature 9: 0.147455\n",
      "Feature 10: 0.153926\n",
      "Feature 11: 0.205127\n"
     ]
    },
    {
     "data": {
      "image/png": "[encoded data removed]",
      "text/plain": [
       "<Figure size 432x288 with 1 Axes>"
      ]
     },
     "metadata": {
      "needs_background": "light"
     },
     "output_type": "display_data"
    }
   ],
   "source": [
    "feat_importances_mi.sort_values(by='Importance', ascending=False, inplace=True) #sorting the columns by there importance\n",
    "feat_importances_mi.plot(kind='bar')\n",
    "for i in range(len(f_s.scores_)):   #printing out columns \n",
    "    print('Feature %d: %f' % (i, f_s.scores_[i]))"
   ]
  },
  {
   "cell_type": "code",
   "execution_count": 112,
   "id": "d387f901",
   "metadata": {},
   "outputs": [],
   "source": [
    "train_mi = train[feat_importances_mi.index[:5]] #again selecting the first five best characters"
   ]
  },
  {
   "cell_type": "code",
   "execution_count": 113,
   "id": "31bfd86a",
   "metadata": {},
   "outputs": [],
   "source": [
    "X_train, X_test, y_train, y_test = train_test_split(train, test, test_size=0.4, random_state=7) #spliting the dataset into two parts."
   ]
  },
  {
   "cell_type": "code",
   "execution_count": 114,
   "id": "67e06ae5",
   "metadata": {},
   "outputs": [
    {
     "data": {
      "text/plain": [
       "LinearRegression(n_jobs=5)"
      ]
     },
     "execution_count": 114,
     "metadata": {},
     "output_type": "execute_result"
    }
   ],
   "source": [
    "l_regression.fit(X_train,y_train) "
   ]
  },
  {
   "cell_type": "code",
   "execution_count": 115,
   "id": "fee78280",
   "metadata": {},
   "outputs": [],
   "source": [
    "prediction = l_regression.predict(X_test)"
   ]
  },
  {
   "cell_type": "code",
   "execution_count": 116,
   "id": "27153707",
   "metadata": {},
   "outputs": [
    {
     "name": "stdout",
     "output_type": "stream",
     "text": [
      "Mean Absolute Error: 296910.19401262846\n",
      "Mean Squared Error: 272395450273.69476\n",
      "Root Mean Squared Error: 521915.1753625246\n"
     ]
    }
   ],
   "source": [
    "print('Mean Absolute Error:', metrics.mean_absolute_error(y_test, prediction))\n",
    "print('Mean Squared Error:', metrics.mean_squared_error(y_test, prediction))\n",
    "print('Root Mean Squared Error:', np.sqrt(metrics.mean_squared_error(y_test, prediction)))"
   ]
  },
  {
   "cell_type": "code",
   "execution_count": null,
   "id": "1fdaa8f8",
   "metadata": {},
   "outputs": [],
   "source": []
  },
  {
   "cell_type": "code",
   "execution_count": 118,
   "id": "50cc4bd3",
   "metadata": {},
   "outputs": [
    {
     "data": {
      "text/plain": [
       "<AxesSubplot:>"
      ]
     },
     "execution_count": 118,
     "metadata": {},
     "output_type": "execute_result"
    },
    {
     "data": {
      "image/png": "[encoded data removed]",
      "text/plain": [
       "<Figure size 432x288 with 1 Axes>"
      ]
     },
     "metadata": {
      "needs_background": "light"
     },
     "output_type": "display_data"
    }
   ],
   "source": [
    "# Rndom forest feature importance\n",
    "from sklearn.ensemble import RandomForestClassifier\n",
    "\n",
    "r_f_c = RandomForestClassifier(n_estimators=10) # random forest classifier \n",
    "\n",
    "r_f_c = r_f_c.fit(train,test) #fitting the model\n",
    "important_feat = pd.DataFrame(r_f_c.feature_importances_, index=train.columns, columns=[\"Importance\"]) #fetching the important feature\n",
    "important_feat.sort_values(by='Importance', ascending=False, inplace=True) \n",
    "important_feat.plot(kind='bar')"
   ]
  },
  {
   "cell_type": "code",
   "execution_count": 102,
   "id": "98db075f",
   "metadata": {},
   "outputs": [],
   "source": [
    " new_train = train[important_feat.index[:5]] # selecting the first five most important features."
   ]
  },
  {
   "cell_type": "code",
   "execution_count": 103,
   "id": "d11a1129",
   "metadata": {},
   "outputs": [],
   "source": [
    "from sklearn.model_selection import train_test_split\n",
    "X_train, X_test, y_train, y_test = train_test_split(new_train, test, test_size=0.4, random_state=7)"
   ]
  },
  {
   "cell_type": "code",
   "execution_count": 104,
   "id": "2dece935",
   "metadata": {},
   "outputs": [
    {
     "data": {
      "text/plain": [
       "LinearRegression(n_jobs=5)"
      ]
     },
     "execution_count": 104,
     "metadata": {},
     "output_type": "execute_result"
    }
   ],
   "source": [
    "l_regression.fit(X_train,y_train)    #here by training the dataset that we gained by doing random forest feature importance"
   ]
  },
  {
   "cell_type": "code",
   "execution_count": 105,
   "id": "65dd7ab2",
   "metadata": {},
   "outputs": [],
   "source": [
    "prediction = l_regression.predict(X_test)"
   ]
  },
  {
   "cell_type": "code",
   "execution_count": 106,
   "id": "2efa7abb",
   "metadata": {},
   "outputs": [
    {
     "name": "stdout",
     "output_type": "stream",
     "text": [
      "Mean Absolute Error: 396319.37021851784\n",
      "Mean Squared Error: 973264698169.2808\n",
      "Root Mean Squared Error: 986541.7873406482\n"
     ]
    }
   ],
   "source": [
    "print('Mean Absolute Error:', metrics.mean_absolute_error(y_test, prediction))\n",
    "print('Mean Squared Error:', metrics.mean_squared_error(y_test, prediction))\n",
    "print('Root Mean Squared Error:', np.sqrt(metrics.mean_squared_error(y_test, prediction)))"
   ]
  },
  {
   "cell_type": "markdown",
   "id": "dd5c88c8",
   "metadata": {},
   "source": [
    "  here i have implimented linearregression model on all three feature selection method.\n",
    "  \n",
    "#####  1) chi square test :\n",
    "mean Absolute Error: 327346.50667362066\n",
    "\n",
    "Mean Squared Error: 225352935042.14502\n",
    "\n",
    "Root Mean Squared Error: 474713.52944923006\n",
    "\n",
    "#####  2) mutual information method\n",
    "Mean Absolute Error: 296910.19401262846\n",
    "\n",
    "Mean Squared Error: 272395450273.69476\n",
    "\n",
    "Root Mean Squared Error: 521915.1753625246\n",
    "\n",
    " #####  3) random forest feature selection:\n",
    "Mean Absolute Error: 396319.37021851784\n",
    "\n",
    "Mean Squared Error: 973264698169.2808\n",
    "\n",
    "Root Mean Squared Error: 986541.7873406482\n",
    "\n",
    "  "
   ]
  },
  {
   "cell_type": "markdown",
   "id": "e3724ef3",
   "metadata": {},
   "source": [
    " we can see that chi square method is the best feature selection method for given dataset\n",
    " \n",
    " whereas Radom forest feature selection is the worst method for given dataset."
   ]
  },
  {
   "cell_type": "code",
   "execution_count": null,
   "id": "4a032c41",
   "metadata": {},
   "outputs": [],
   "source": []
  }
 ],
 "metadata": {
  "kernelspec": {
   "display_name": "Python 3 (ipykernel)",
   "language": "python",
   "name": "python3"
  },
  "language_info": {
   "codemirror_mode": {
    "name": "ipython",
    "version": 3
   },
   "file_extension": ".py",
   "mimetype": "text/x-python",
   "name": "python",
   "nbconvert_exporter": "python",
   "pygments_lexer": "ipython3",
   "version": "3.9.12"
  }
 },
 "nbformat": 4,
 "nbformat_minor": 5
}
